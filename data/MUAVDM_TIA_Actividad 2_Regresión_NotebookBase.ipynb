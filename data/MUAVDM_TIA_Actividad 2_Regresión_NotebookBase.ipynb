{
 "cells": [
  {
   "cell_type": "markdown",
   "id": "de1406ba",
   "metadata": {},
   "source": [
    "<img src=\"https://www.unir.net/wp-content/uploads/2019/11/Unir_2021_logo.svg\" width=\"240\" height=\"240\" align=\"right\"/>"
   ]
  },
  {
   "cell_type": "markdown",
   "id": "8b6f603c",
   "metadata": {},
   "source": [
    "<center><h1>Técnicas de Inteligencia Artificial</header1></center>\n",
    "<left><h1>Actividad 2. Trabajando con redes neuronales y Deep Learning</header1></left>"
   ]
  },
  {
   "cell_type": "markdown",
   "id": "3eb1aaac",
   "metadata": {},
   "source": [
    "Presentado por: Nombres Apellidos  <br>\n",
    "Fecha: DD/MM/2022"
   ]
  },
  {
   "cell_type": "markdown",
   "id": "1dec299b",
   "metadata": {
    "ExecuteTime": {
     "end_time": "2022-03-14T15:14:04.930713Z",
     "start_time": "2022-03-14T15:14:04.921682Z"
    }
   },
   "source": [
    "# Importación de librerias necesarias"
   ]
  },
  {
   "cell_type": "markdown",
   "id": "7e71c67f",
   "metadata": {},
   "source": [
    "# Parte I. Regresión"
   ]
  },
  {
   "cell_type": "code",
   "execution_count": 1,
   "id": "6d1abf7a",
   "metadata": {
    "ExecuteTime": {
     "end_time": "2022-03-14T15:14:46.228059Z",
     "start_time": "2022-03-14T15:14:46.223108Z"
    }
   },
   "outputs": [],
   "source": [
    "#Para esta actividad se importarán las siguientes librerías:\n",
    "import pandas as pd\n",
    "import matplotlib.pyplot as plt\n",
    "import numpy as np\n",
    "from sklearn.linear_model import LinearRegression\n",
    "\n",
    "from sklearn.preprocessing import LabelEncoder\n",
    "from sklearn.model_selection import train_test_split\n",
    "from sklearn.preprocessing import StandardScaler\n",
    "from sklearn.metrics import mean_squared_error, mean_absolute_error, r2_score\n",
    "\n",
    "from tensorflow.keras.models import Sequential\n",
    "from tensorflow.keras.layers import Dense"
   ]
  },
  {
   "cell_type": "markdown",
   "id": "6a44b924",
   "metadata": {},
   "source": [
    "## Cargar el Dataset\n",
    "\n",
    "Con al menos 1000 instancias, una variable/atributo de la salida, y que dependa de, al menos, 6 variables/atributos de entrada. "
   ]
  },
  {
   "cell_type": "code",
   "execution_count": 99,
   "id": "3541e808",
   "metadata": {},
   "outputs": [
    {
     "data": {
      "text/html": [
       "<div>\n",
       "<style scoped>\n",
       "    .dataframe tbody tr th:only-of-type {\n",
       "        vertical-align: middle;\n",
       "    }\n",
       "\n",
       "    .dataframe tbody tr th {\n",
       "        vertical-align: top;\n",
       "    }\n",
       "\n",
       "    .dataframe thead th {\n",
       "        text-align: right;\n",
       "    }\n",
       "</style>\n",
       "<table border=\"1\" class=\"dataframe\">\n",
       "  <thead>\n",
       "    <tr style=\"text-align: right;\">\n",
       "      <th></th>\n",
       "      <th>Activity Period</th>\n",
       "      <th>Operating Airline</th>\n",
       "      <th>Operating Airline IATA Code</th>\n",
       "      <th>Published Airline</th>\n",
       "      <th>Published Airline IATA Code</th>\n",
       "      <th>GEO Summary</th>\n",
       "      <th>GEO Region</th>\n",
       "      <th>Activity Type Code</th>\n",
       "      <th>Price Category Code</th>\n",
       "      <th>Terminal</th>\n",
       "      <th>Boarding Area</th>\n",
       "      <th>Passenger Count</th>\n",
       "    </tr>\n",
       "  </thead>\n",
       "  <tbody>\n",
       "    <tr>\n",
       "      <th>0</th>\n",
       "      <td>200507</td>\n",
       "      <td>ATA Airlines</td>\n",
       "      <td>TZ</td>\n",
       "      <td>ATA Airlines</td>\n",
       "      <td>TZ</td>\n",
       "      <td>Domestic</td>\n",
       "      <td>US</td>\n",
       "      <td>Deplaned</td>\n",
       "      <td>Low Fare</td>\n",
       "      <td>Terminal 1</td>\n",
       "      <td>B</td>\n",
       "      <td>27271</td>\n",
       "    </tr>\n",
       "    <tr>\n",
       "      <th>1</th>\n",
       "      <td>200507</td>\n",
       "      <td>ATA Airlines</td>\n",
       "      <td>TZ</td>\n",
       "      <td>ATA Airlines</td>\n",
       "      <td>TZ</td>\n",
       "      <td>Domestic</td>\n",
       "      <td>US</td>\n",
       "      <td>Enplaned</td>\n",
       "      <td>Low Fare</td>\n",
       "      <td>Terminal 1</td>\n",
       "      <td>B</td>\n",
       "      <td>29131</td>\n",
       "    </tr>\n",
       "    <tr>\n",
       "      <th>2</th>\n",
       "      <td>200507</td>\n",
       "      <td>ATA Airlines</td>\n",
       "      <td>TZ</td>\n",
       "      <td>ATA Airlines</td>\n",
       "      <td>TZ</td>\n",
       "      <td>Domestic</td>\n",
       "      <td>US</td>\n",
       "      <td>Thru / Transit</td>\n",
       "      <td>Low Fare</td>\n",
       "      <td>Terminal 1</td>\n",
       "      <td>B</td>\n",
       "      <td>5415</td>\n",
       "    </tr>\n",
       "    <tr>\n",
       "      <th>3</th>\n",
       "      <td>200507</td>\n",
       "      <td>Air Canada</td>\n",
       "      <td>AC</td>\n",
       "      <td>Air Canada</td>\n",
       "      <td>AC</td>\n",
       "      <td>International</td>\n",
       "      <td>Canada</td>\n",
       "      <td>Deplaned</td>\n",
       "      <td>Other</td>\n",
       "      <td>Terminal 1</td>\n",
       "      <td>B</td>\n",
       "      <td>35156</td>\n",
       "    </tr>\n",
       "    <tr>\n",
       "      <th>4</th>\n",
       "      <td>200507</td>\n",
       "      <td>Air Canada</td>\n",
       "      <td>AC</td>\n",
       "      <td>Air Canada</td>\n",
       "      <td>AC</td>\n",
       "      <td>International</td>\n",
       "      <td>Canada</td>\n",
       "      <td>Enplaned</td>\n",
       "      <td>Other</td>\n",
       "      <td>Terminal 1</td>\n",
       "      <td>B</td>\n",
       "      <td>34090</td>\n",
       "    </tr>\n",
       "    <tr>\n",
       "      <th>...</th>\n",
       "      <td>...</td>\n",
       "      <td>...</td>\n",
       "      <td>...</td>\n",
       "      <td>...</td>\n",
       "      <td>...</td>\n",
       "      <td>...</td>\n",
       "      <td>...</td>\n",
       "      <td>...</td>\n",
       "      <td>...</td>\n",
       "      <td>...</td>\n",
       "      <td>...</td>\n",
       "      <td>...</td>\n",
       "    </tr>\n",
       "    <tr>\n",
       "      <th>50725</th>\n",
       "      <td>202212</td>\n",
       "      <td>Vietnam Airlines JSC</td>\n",
       "      <td>VN</td>\n",
       "      <td>Vietnam Airlines JSC</td>\n",
       "      <td>VN</td>\n",
       "      <td>International</td>\n",
       "      <td>Asia</td>\n",
       "      <td>Enplaned</td>\n",
       "      <td>Other</td>\n",
       "      <td>International</td>\n",
       "      <td>A</td>\n",
       "      <td>3197</td>\n",
       "    </tr>\n",
       "    <tr>\n",
       "      <th>50726</th>\n",
       "      <td>202212</td>\n",
       "      <td>Virgin Atlantic</td>\n",
       "      <td>VS</td>\n",
       "      <td>Virgin Atlantic</td>\n",
       "      <td>VS</td>\n",
       "      <td>International</td>\n",
       "      <td>Europe</td>\n",
       "      <td>Deplaned</td>\n",
       "      <td>Other</td>\n",
       "      <td>International</td>\n",
       "      <td>A</td>\n",
       "      <td>5836</td>\n",
       "    </tr>\n",
       "    <tr>\n",
       "      <th>50727</th>\n",
       "      <td>202212</td>\n",
       "      <td>Virgin Atlantic</td>\n",
       "      <td>VS</td>\n",
       "      <td>Virgin Atlantic</td>\n",
       "      <td>VS</td>\n",
       "      <td>International</td>\n",
       "      <td>Europe</td>\n",
       "      <td>Enplaned</td>\n",
       "      <td>Other</td>\n",
       "      <td>International</td>\n",
       "      <td>A</td>\n",
       "      <td>6650</td>\n",
       "    </tr>\n",
       "    <tr>\n",
       "      <th>50728</th>\n",
       "      <td>202212</td>\n",
       "      <td>WestJet Airlines</td>\n",
       "      <td>WS</td>\n",
       "      <td>WestJet Airlines</td>\n",
       "      <td>WS</td>\n",
       "      <td>International</td>\n",
       "      <td>Canada</td>\n",
       "      <td>Deplaned</td>\n",
       "      <td>Other</td>\n",
       "      <td>International</td>\n",
       "      <td>A</td>\n",
       "      <td>1679</td>\n",
       "    </tr>\n",
       "    <tr>\n",
       "      <th>50729</th>\n",
       "      <td>202212</td>\n",
       "      <td>WestJet Airlines</td>\n",
       "      <td>WS</td>\n",
       "      <td>WestJet Airlines</td>\n",
       "      <td>WS</td>\n",
       "      <td>International</td>\n",
       "      <td>Canada</td>\n",
       "      <td>Enplaned</td>\n",
       "      <td>Other</td>\n",
       "      <td>International</td>\n",
       "      <td>A</td>\n",
       "      <td>1857</td>\n",
       "    </tr>\n",
       "  </tbody>\n",
       "</table>\n",
       "<p>50730 rows × 12 columns</p>\n",
       "</div>"
      ],
      "text/plain": [
       "       Activity Period     Operating Airline Operating Airline IATA Code  \\\n",
       "0               200507          ATA Airlines                          TZ   \n",
       "1               200507          ATA Airlines                          TZ   \n",
       "2               200507          ATA Airlines                          TZ   \n",
       "3               200507            Air Canada                          AC   \n",
       "4               200507            Air Canada                          AC   \n",
       "...                ...                   ...                         ...   \n",
       "50725           202212  Vietnam Airlines JSC                          VN   \n",
       "50726           202212       Virgin Atlantic                          VS   \n",
       "50727           202212       Virgin Atlantic                          VS   \n",
       "50728           202212      WestJet Airlines                          WS   \n",
       "50729           202212      WestJet Airlines                          WS   \n",
       "\n",
       "          Published Airline Published Airline IATA Code    GEO Summary  \\\n",
       "0              ATA Airlines                          TZ       Domestic   \n",
       "1              ATA Airlines                          TZ       Domestic   \n",
       "2              ATA Airlines                          TZ       Domestic   \n",
       "3                Air Canada                          AC  International   \n",
       "4                Air Canada                          AC  International   \n",
       "...                     ...                         ...            ...   \n",
       "50725  Vietnam Airlines JSC                          VN  International   \n",
       "50726       Virgin Atlantic                          VS  International   \n",
       "50727       Virgin Atlantic                          VS  International   \n",
       "50728      WestJet Airlines                          WS  International   \n",
       "50729      WestJet Airlines                          WS  International   \n",
       "\n",
       "      GEO Region Activity Type Code Price Category Code       Terminal  \\\n",
       "0             US           Deplaned            Low Fare     Terminal 1   \n",
       "1             US           Enplaned            Low Fare     Terminal 1   \n",
       "2             US     Thru / Transit            Low Fare     Terminal 1   \n",
       "3         Canada           Deplaned               Other     Terminal 1   \n",
       "4         Canada           Enplaned               Other     Terminal 1   \n",
       "...          ...                ...                 ...            ...   \n",
       "50725       Asia           Enplaned               Other  International   \n",
       "50726     Europe           Deplaned               Other  International   \n",
       "50727     Europe           Enplaned               Other  International   \n",
       "50728     Canada           Deplaned               Other  International   \n",
       "50729     Canada           Enplaned               Other  International   \n",
       "\n",
       "      Boarding Area  Passenger Count  \n",
       "0                 B            27271  \n",
       "1                 B            29131  \n",
       "2                 B             5415  \n",
       "3                 B            35156  \n",
       "4                 B            34090  \n",
       "...             ...              ...  \n",
       "50725             A             3197  \n",
       "50726             A             5836  \n",
       "50727             A             6650  \n",
       "50728             A             1679  \n",
       "50729             A             1857  \n",
       "\n",
       "[50730 rows x 12 columns]"
      ]
     },
     "execution_count": 99,
     "metadata": {},
     "output_type": "execute_result"
    }
   ],
   "source": [
    "#Código para cargar el Dataset\n",
    "# URL del link del dataset alojado https://github.com/TheAcademyDVR/dataset/blob/master/data/Air_Traffic_Passenger_Statistics.csv\n",
    "url = 'https://raw.githubusercontent.com/TheAcademyDVR/dataset/master/data/Air_Traffic_Passenger_Statistics.csv'\n",
    "df = pd.read_csv(url)\n",
    "df"
   ]
  },
  {
   "cell_type": "markdown",
   "id": "93c30410",
   "metadata": {},
   "source": [
    "## Descripción de la fuente del Dataset"
   ]
  },
  {
   "cell_type": "markdown",
   "id": "db6174bc",
   "metadata": {},
   "source": [
    "La fuente del dataset es un archivo CSV llamado \"Air_Traffic_Passenger_Statistics.csv\" y se encuentra alojado en el repositorio de GitHub de TheAcademyDVR.\n",
    "\n",
    "URL: https://github.com/TheAcademyDVR/dataset/blob/master/data/Air_Traffic_Passenger_Statistics.csv"
   ]
  },
  {
   "cell_type": "markdown",
   "id": "7f868eab",
   "metadata": {},
   "source": [
    "## Explique el problema a resolver. \n",
    "El problema que se busca resolver a partir de los datos proporcionados es el análisis y pronóstico de la cantidad de pasajeros de líneas aéreas en diferentes categorías. Los datos incluyen información como la aerolínea operadora, el código IATA de la aerolínea, la región geográfica, el tipo de actividad, la categoría de precio, el terminal, el área de embarque y el número de pasajeros.\n",
    "\n",
    "Es utilizar estos datos para comprender los patrones y tendencias en el tráfico de pasajeros de las aerolíneas, así como predecir la cantidad de pasajeros en función de las características mencionadas."
   ]
  },
  {
   "cell_type": "markdown",
   "id": "a0b719c1",
   "metadata": {},
   "source": [
    "## Caracterización del Dataset\n",
    "\n",
    "Realice una descripción de los datos con:\n",
    "\n",
    "Número de instancias en total.\n",
    "- 12\n",
    "\n",
    "Número de atributos de entrada, su significado y tipo. \n",
    "\n",
    "- Activity Period: Período de actividad (tipo: entero)\n",
    "- Operating Airline: Aerolínea operativa (tipo: cadena de texto)\n",
    "- Operating Airline IATA Code: Código IATA de la aerolínea operativa (tipo: cadena de texto)\n",
    "- Published Airline: Aerolínea publicada (tipo: cadena de texto)\n",
    "- Published Airline IATA Code: Código IATA de la aerolínea publicada (tipo: cadena de texto)\n",
    "- GEO Summary: Resumen geográfico (tipo: cadena de texto)\n",
    "- GEO Region: Región geográfica (tipo: cadena de texto)\n",
    "- Activity Type Code: Código de tipo de actividad (tipo: cadena de texto)\n",
    "- Price Category Code: Código de categoría de precio (tipo: cadena de texto)\n",
    "- Terminal: Terminal (tipo: cadena de texto)\n",
    "- Boarding Area: Área de embarque (tipo: cadena de texto)\n",
    "- Passenger Count: Cantidad de pasajeros (tipo: entero)\n",
    "\n",
    "Estadísticas de la variable objetivo.\n",
    "- count    50730.000000\n",
    "- mean        56.791701\n",
    "- std         31.118229\n",
    "- min          0.000000\n",
    "- 25%         29.000000\n",
    "- 50%         60.000000\n",
    "- 75%         90.000000\n",
    "- max        101.000000\n",
    "\n",
    "Estadísticas los atributos en relación con la variable objetivo.\n",
    "\n",
    "Se incorporá una pequeña descripción (EDA) del conjunto de datos utilizado. Se analiza el dataset proporcionando, se muestra al menos algunas de sus características mediante tablas y al menos algunas de ellas en modo gráfico (p.ej., histogramas, diagramas de dispersión, diagramas de cajas y bigotes, etc.)\n"
   ]
  },
  {
   "cell_type": "code",
   "execution_count": 100,
   "id": "2f0ed5d2",
   "metadata": {},
   "outputs": [
    {
     "name": "stdout",
     "output_type": "stream",
     "text": [
      "(50730, 12)\n"
     ]
    }
   ],
   "source": [
    "#Código que responde a la descripción anterior\n",
    "print(df.shape)"
   ]
  },
  {
   "cell_type": "code",
   "execution_count": 101,
   "id": "c83f2155",
   "metadata": {},
   "outputs": [
    {
     "name": "stdout",
     "output_type": "stream",
     "text": [
      "<class 'pandas.core.frame.DataFrame'>\n",
      "RangeIndex: 50730 entries, 0 to 50729\n",
      "Data columns (total 12 columns):\n",
      " #   Column                       Non-Null Count  Dtype \n",
      "---  ------                       --------------  ----- \n",
      " 0   Activity Period              50730 non-null  int64 \n",
      " 1   Operating Airline            50730 non-null  object\n",
      " 2   Operating Airline IATA Code  50730 non-null  object\n",
      " 3   Published Airline            50730 non-null  object\n",
      " 4   Published Airline IATA Code  50730 non-null  object\n",
      " 5   GEO Summary                  50730 non-null  object\n",
      " 6   GEO Region                   50730 non-null  object\n",
      " 7   Activity Type Code           50730 non-null  object\n",
      " 8   Price Category Code          50730 non-null  object\n",
      " 9   Terminal                     50730 non-null  object\n",
      " 10  Boarding Area                50730 non-null  object\n",
      " 11  Passenger Count              50730 non-null  int64 \n",
      "dtypes: int64(2), object(10)\n",
      "memory usage: 4.6+ MB\n"
     ]
    }
   ],
   "source": [
    "df.info()"
   ]
  },
  {
   "cell_type": "code",
   "execution_count": 172,
   "id": "8bd55125",
   "metadata": {},
   "outputs": [
    {
     "data": {
      "text/plain": [
       "count    50730.000000\n",
       "mean        56.791701\n",
       "std         31.118229\n",
       "min          0.000000\n",
       "25%         29.000000\n",
       "50%         60.000000\n",
       "75%         90.000000\n",
       "max        101.000000\n",
       "Name: Operating Airline, dtype: float64"
      ]
     },
     "execution_count": 172,
     "metadata": {},
     "output_type": "execute_result"
    }
   ],
   "source": [
    "df['Operating Airline'].describe()"
   ]
  },
  {
   "cell_type": "code",
   "execution_count": 102,
   "id": "79445e1f",
   "metadata": {},
   "outputs": [
    {
     "name": "stdout",
     "output_type": "stream",
     "text": [
      "                                         Activity Period                 \\\n",
      "                                                   count           mean   \n",
      "Operating Airline                                                         \n",
      "ABC Aerolineas S.A. de C.V. dba Interjet           100.0  201878.360000   \n",
      "ATA Airlines                                        88.0  200586.363636   \n",
      "Aer Lingus, Ltd.                                   428.0  201531.733645   \n",
      "Aeromexico                                         660.0  201523.463636   \n",
      "Air Berlin                                         120.0  201327.500000   \n",
      "...                                                  ...            ...   \n",
      "WOW Air                                            142.0  201733.521127   \n",
      "WestJet Airlines                                   374.0  201476.786096   \n",
      "World Airways                                        6.0  201008.333333   \n",
      "XL Airways France                                  130.0  201553.415385   \n",
      "Xtra Airways                                         4.0  200608.000000   \n",
      "\n",
      "                                                                           \\\n",
      "                                                 std       min        25%   \n",
      "Operating Airline                                                           \n",
      "ABC Aerolineas S.A. de C.V. dba Interjet   65.382097  201803.0  201809.00   \n",
      "ATA Airlines                               82.831803  200507.0  200510.00   \n",
      "Aer Lingus, Ltd.                          438.342235  200710.0  201405.00   \n",
      "Aeromexico                                403.301798  200703.0  201203.00   \n",
      "Air Berlin                                279.741027  201005.0  201106.00   \n",
      "...                                              ...       ...        ...   \n",
      "WOW Air                                    76.132371  201606.0  201702.25   \n",
      "WestJet Airlines                          470.477274  200507.0  201110.00   \n",
      "World Airways                             156.984925  200907.0  200907.00   \n",
      "XL Airways France                         234.618998  201205.0  201308.00   \n",
      "Xtra Airways                                0.000000  200608.0  200608.00   \n",
      "\n",
      "                                                                         \\\n",
      "                                               50%        75%       max   \n",
      "Operating Airline                                                         \n",
      "ABC Aerolineas S.A. de C.V. dba Interjet  201903.0  201909.00  202003.0   \n",
      "ATA Airlines                              200601.0  200606.50  200802.0   \n",
      "Aer Lingus, Ltd.                          201608.0  201811.00  202212.0   \n",
      "Aeromexico                                201508.0  201901.00  202212.0   \n",
      "Air Berlin                                201207.5  201609.00  201710.0   \n",
      "...                                            ...        ...       ...   \n",
      "WOW Air                                   201711.0  201805.75  201811.0   \n",
      "WestJet Airlines                          201506.0  201809.00  202212.0   \n",
      "World Airways                             200907.0  201135.00  201211.0   \n",
      "XL Airways France                         201606.0  201709.00  201909.0   \n",
      "Xtra Airways                              200608.0  200608.00  200608.0   \n",
      "\n",
      "                                         Passenger Count               \\\n",
      "                                                   count         mean   \n",
      "Operating Airline                                                       \n",
      "ABC Aerolineas S.A. de C.V. dba Interjet           100.0  3907.580000   \n",
      "ATA Airlines                                        88.0  8744.636364   \n",
      "Aer Lingus, Ltd.                                   428.0  5530.266355   \n",
      "Aeromexico                                         660.0  8183.901515   \n",
      "Air Berlin                                         120.0  3919.250000   \n",
      "...                                                  ...          ...   \n",
      "WOW Air                                            142.0  5067.732394   \n",
      "WestJet Airlines                                   374.0  6084.852941   \n",
      "World Airways                                        6.0   261.666667   \n",
      "XL Airways France                                  130.0  2469.430769   \n",
      "Xtra Airways                                         4.0    73.000000   \n",
      "\n",
      "                                                                        \\\n",
      "                                                  std     min      25%   \n",
      "Operating Airline                                                        \n",
      "ABC Aerolineas S.A. de C.V. dba Interjet  1613.002572  1090.0  2486.00   \n",
      "ATA Airlines                              8831.922552    48.0   263.25   \n",
      "Aer Lingus, Ltd.                          2035.861817   341.0  3858.00   \n",
      "Aeromexico                                4896.880686     6.0  3227.00   \n",
      "Air Berlin                                2833.238167   972.0  2139.75   \n",
      "...                                               ...     ...      ...   \n",
      "WOW Air                                   3107.128486     1.0  2802.50   \n",
      "WestJet Airlines                          3842.259333     2.0  1714.00   \n",
      "World Airways                                7.447595   255.0   256.00   \n",
      "XL Airways France                         1328.738587   106.0  1377.00   \n",
      "Xtra Airways                                 0.000000    73.0    73.00   \n",
      "\n",
      "                                                                     \n",
      "                                             50%       75%      max  \n",
      "Operating Airline                                                    \n",
      "ABC Aerolineas S.A. de C.V. dba Interjet  3896.5   5297.00   7448.0  \n",
      "ATA Airlines                              5563.5  15727.25  29131.0  \n",
      "Aer Lingus, Ltd.                          5712.0   7246.00   9360.0  \n",
      "Aeromexico                                9341.5  12097.00  20679.0  \n",
      "Air Berlin                                2881.0   4926.00  12491.0  \n",
      "...                                          ...       ...      ...  \n",
      "WOW Air                                   5253.0   7905.75   9848.0  \n",
      "WestJet Airlines                          6838.0   8251.00  16127.0  \n",
      "World Airways                              259.0    268.00    271.0  \n",
      "XL Airways France                         2436.0   3666.00   5077.0  \n",
      "Xtra Airways                                73.0     73.00     73.0  \n",
      "\n",
      "[102 rows x 16 columns]\n"
     ]
    }
   ],
   "source": [
    "estadisticas = df.groupby('Operating Airline').describe()\n",
    "print(estadisticas)"
   ]
  },
  {
   "cell_type": "code",
   "execution_count": 104,
   "id": "ad08f162",
   "metadata": {},
   "outputs": [
    {
     "data": {
      "image/png": "[encoded data removed]",
      "text/plain": [
       "<Figure size 640x480 with 1 Axes>"
      ]
     },
     "metadata": {},
     "output_type": "display_data"
    }
   ],
   "source": [
    "plt.scatter(df['Operating Airline'], df['Passenger Count'])\n",
    "plt.xlabel('Activity Period')\n",
    "plt.ylabel('Passenger Count')\n",
    "plt.title('Gráfico de dispersión del período de actividad frente al recuento de pasajeros')\n",
    "plt.show()"
   ]
  },
  {
   "cell_type": "code",
   "execution_count": 105,
   "id": "b1f930f8",
   "metadata": {},
   "outputs": [
    {
     "data": {
      "image/png": "[encoded data removed]",
      "text/plain": [
       "<Figure size 640x480 with 1 Axes>"
      ]
     },
     "metadata": {},
     "output_type": "display_data"
    }
   ],
   "source": [
    "df.boxplot(column='Passenger Count', by='GEO Summary')\n",
    "plt.xlabel('Operating Airline')\n",
    "plt.ylabel('Passenger Count')\n",
    "plt.title('Diagrama de caja del conteo de pasajeros por resumen GEO')\n",
    "plt.show()"
   ]
  },
  {
   "cell_type": "code",
   "execution_count": 106,
   "id": "7aefc95f",
   "metadata": {},
   "outputs": [
    {
     "data": {
      "image/png": "[encoded data removed]",
      "text/plain": [
       "<Figure size 640x480 with 1 Axes>"
      ]
     },
     "metadata": {},
     "output_type": "display_data"
    }
   ],
   "source": [
    "plt.hist(df['Passenger Count'], bins=10)\n",
    "plt.xlabel('Passenger Count')\n",
    "plt.ylabel('Frequency')\n",
    "plt.title('Histogram of Passenger Count')\n",
    "plt.show() "
   ]
  },
  {
   "cell_type": "markdown",
   "id": "a7ab5e48",
   "metadata": {},
   "source": [
    "Durante el análisis exploratorio de datos (EDA) realizado en el conjunto de datos proporcionado, se pudieron obtener algunos hallazgos importantes. Se observó que el conjunto de datos contiene información sobre diferentes actividades relacionadas con aerolíneas y pasajeros. Se identificaron atributos como el periodo de actividad, el nombre de la aerolínea, el código IATA de la aerolínea, el tipo de actividad (desembarque, embarque, tránsito), la región geográfica, la categoría de precios, el terminal y el área de embarque, y el recuento de pasajeros. En cuanto a las estadísticas descriptivas, se encontró que el recuento de pasajeros varía ampliamente, desde valores mínimos hasta valores máximos significativamente más altos. Esto indica una gran variabilidad en la cantidad de pasajeros en diferentes actividades y aerolíneas."
   ]
  },
  {
   "cell_type": "markdown",
   "id": "ece5beca",
   "metadata": {
    "ExecuteTime": {
     "end_time": "2022-03-14T15:52:20.156185Z",
     "start_time": "2022-03-14T15:52:20.150187Z"
    }
   },
   "source": [
    "## Preprocesamiento del dataset. Transformaciones previas necesarias para la modelación"
   ]
  },
  {
   "cell_type": "code",
   "execution_count": 107,
   "id": "488b113d",
   "metadata": {},
   "outputs": [],
   "source": [
    "df = df.drop(['Activity Period', 'Operating Airline IATA Code', 'Published Airline',\n",
    "              'Published Airline IATA Code', 'GEO Summary', 'GEO Region', 'Activity Type Code',\n",
    "              'Price Category Code', 'Terminal', 'Boarding Area'], axis=1)"
   ]
  },
  {
   "cell_type": "code",
   "execution_count": 117,
   "id": "2cab1df2",
   "metadata": {},
   "outputs": [
    {
     "data": {
      "text/html": [
       "<div>\n",
       "<style scoped>\n",
       "    .dataframe tbody tr th:only-of-type {\n",
       "        vertical-align: middle;\n",
       "    }\n",
       "\n",
       "    .dataframe tbody tr th {\n",
       "        vertical-align: top;\n",
       "    }\n",
       "\n",
       "    .dataframe thead th {\n",
       "        text-align: right;\n",
       "    }\n",
       "</style>\n",
       "<table border=\"1\" class=\"dataframe\">\n",
       "  <thead>\n",
       "    <tr style=\"text-align: right;\">\n",
       "      <th></th>\n",
       "      <th>Operating Airline</th>\n",
       "      <th>Passenger Count</th>\n",
       "    </tr>\n",
       "  </thead>\n",
       "  <tbody>\n",
       "    <tr>\n",
       "      <th>0</th>\n",
       "      <td>1</td>\n",
       "      <td>27271</td>\n",
       "    </tr>\n",
       "    <tr>\n",
       "      <th>1</th>\n",
       "      <td>1</td>\n",
       "      <td>29131</td>\n",
       "    </tr>\n",
       "    <tr>\n",
       "      <th>2</th>\n",
       "      <td>1</td>\n",
       "      <td>5415</td>\n",
       "    </tr>\n",
       "    <tr>\n",
       "      <th>3</th>\n",
       "      <td>5</td>\n",
       "      <td>35156</td>\n",
       "    </tr>\n",
       "    <tr>\n",
       "      <th>4</th>\n",
       "      <td>5</td>\n",
       "      <td>34090</td>\n",
       "    </tr>\n",
       "    <tr>\n",
       "      <th>...</th>\n",
       "      <td>...</td>\n",
       "      <td>...</td>\n",
       "    </tr>\n",
       "    <tr>\n",
       "      <th>50725</th>\n",
       "      <td>93</td>\n",
       "      <td>3197</td>\n",
       "    </tr>\n",
       "    <tr>\n",
       "      <th>50726</th>\n",
       "      <td>95</td>\n",
       "      <td>5836</td>\n",
       "    </tr>\n",
       "    <tr>\n",
       "      <th>50727</th>\n",
       "      <td>95</td>\n",
       "      <td>6650</td>\n",
       "    </tr>\n",
       "    <tr>\n",
       "      <th>50728</th>\n",
       "      <td>98</td>\n",
       "      <td>1679</td>\n",
       "    </tr>\n",
       "    <tr>\n",
       "      <th>50729</th>\n",
       "      <td>98</td>\n",
       "      <td>1857</td>\n",
       "    </tr>\n",
       "  </tbody>\n",
       "</table>\n",
       "<p>50730 rows × 2 columns</p>\n",
       "</div>"
      ],
      "text/plain": [
       "       Operating Airline  Passenger Count\n",
       "0                      1            27271\n",
       "1                      1            29131\n",
       "2                      1             5415\n",
       "3                      5            35156\n",
       "4                      5            34090\n",
       "...                  ...              ...\n",
       "50725                 93             3197\n",
       "50726                 95             5836\n",
       "50727                 95             6650\n",
       "50728                 98             1679\n",
       "50729                 98             1857\n",
       "\n",
       "[50730 rows x 2 columns]"
      ]
     },
     "execution_count": 117,
     "metadata": {},
     "output_type": "execute_result"
    }
   ],
   "source": [
    "df"
   ]
  },
  {
   "cell_type": "code",
   "execution_count": 61,
   "id": "59ee0646",
   "metadata": {},
   "outputs": [],
   "source": [
    "X = df.drop('Passenger Count', axis=1)\n",
    "y = df['Passenger Count']"
   ]
  },
  {
   "cell_type": "code",
   "execution_count": 118,
   "id": "5e797f70",
   "metadata": {},
   "outputs": [],
   "source": [
    "label_encoder = LabelEncoder()\n",
    "df['Operating Airline'] = label_encoder.fit_transform(df['Operating Airline'])"
   ]
  },
  {
   "cell_type": "code",
   "execution_count": 119,
   "id": "80b8819f",
   "metadata": {},
   "outputs": [],
   "source": [
    "X = df[['Operating Airline']]\n",
    "y = df['Passenger Count']"
   ]
  },
  {
   "cell_type": "markdown",
   "id": "49815fde",
   "metadata": {
    "ExecuteTime": {
     "end_time": "2022-03-14T15:56:34.366469Z",
     "start_time": "2022-03-14T15:56:34.358471Z"
    }
   },
   "source": [
    "## División del dataset en datos de entrenamiento y datos de test "
   ]
  },
  {
   "cell_type": "code",
   "execution_count": 120,
   "id": "89d4919e",
   "metadata": {},
   "outputs": [],
   "source": [
    "X_train, X_test, y_train, y_test = train_test_split(X, y, test_size=0.3, random_state=42)"
   ]
  },
  {
   "cell_type": "code",
   "execution_count": 121,
   "id": "81abc6d2",
   "metadata": {},
   "outputs": [
    {
     "name": "stdout",
     "output_type": "stream",
     "text": [
      "Datos de entrenamiento - X: (35511, 1)\n",
      "Datos de entrenamiento - y: (35511,)\n",
      "Datos de test - X: (15219, 1)\n",
      "Datos de test - y: (15219,)\n"
     ]
    }
   ],
   "source": [
    "print(\"Datos de entrenamiento - X:\", X_train.shape)\n",
    "print(\"Datos de entrenamiento - y:\", y_train.shape)\n",
    "print(\"Datos de test - X:\", X_test.shape)\n",
    "print(\"Datos de test - y:\", y_test.shape)"
   ]
  },
  {
   "cell_type": "markdown",
   "id": "a652d4ba",
   "metadata": {},
   "source": [
    "## Propuesta de arquitectura de red neuronal"
   ]
  },
  {
   "cell_type": "markdown",
   "id": "d4a83252",
   "metadata": {},
   "source": [
    "Describe: \n",
    "\n",
    "+ las neuronas en la capa de entrada \n",
    "+ las capas intermedias – al menos dos – \n",
    "+ capa de salida\n",
    "+ funciones de activación"
   ]
  },
  {
   "cell_type": "code",
   "execution_count": 122,
   "id": "e862659e",
   "metadata": {},
   "outputs": [],
   "source": [
    "model = Sequential()\n",
    "model.add(Dense(16, input_dim=1, activation='relu'))  # Capa de entrada con 16 neuronas y función de activación ReLU\n",
    "model.add(Dense(8, activation='relu'))  # Capa intermedia con 8 neuronas y función de activación ReLU\n",
    "model.add(Dense(1)) "
   ]
  },
  {
   "cell_type": "code",
   "execution_count": 112,
   "id": "52a9522c",
   "metadata": {},
   "outputs": [],
   "source": [
    "model = Sequential()"
   ]
  },
  {
   "cell_type": "code",
   "execution_count": 113,
   "id": "6e37be33",
   "metadata": {},
   "outputs": [],
   "source": [
    "# Capa de entrada\n",
    "model.add(Dense(units=64, activation='relu', input_dim=X_train.shape[1]))\n",
    "\n",
    "# Capa intermedia 1\n",
    "model.add(Dense(units=32, activation='relu'))\n",
    "# Capa intermedia 2\n",
    "model.add(Dense(units=16, activation='relu'))\n",
    "\n",
    "# Capa de salida\n",
    "model.add(Dense(units=1, activation='linear'))"
   ]
  },
  {
   "cell_type": "code",
   "execution_count": 123,
   "id": "946666a6",
   "metadata": {},
   "outputs": [],
   "source": [
    "model.compile(loss='mean_squared_error', optimizer='adam')"
   ]
  },
  {
   "cell_type": "markdown",
   "id": "ea9ce204",
   "metadata": {},
   "source": [
    "##  Ajuste de modelo de Regresión RNA"
   ]
  },
  {
   "cell_type": "code",
   "execution_count": 124,
   "id": "b264733a",
   "metadata": {},
   "outputs": [
    {
     "name": "stdout",
     "output_type": "stream",
     "text": [
      "Epoch 1/10\n",
      "1110/1110 [==============================] - 3s 2ms/step - loss: 4281956096.0000 - val_loss: 4033274880.0000\n",
      "Epoch 2/10\n",
      "1110/1110 [==============================] - 2s 2ms/step - loss: 3702539776.0000 - val_loss: 3585468928.0000\n",
      "Epoch 3/10\n",
      "1110/1110 [==============================] - 2s 2ms/step - loss: 3541666304.0000 - val_loss: 3570440448.0000\n",
      "Epoch 4/10\n",
      "1110/1110 [==============================] - 2s 2ms/step - loss: 3538680320.0000 - val_loss: 3570137856.0000\n",
      "Epoch 5/10\n",
      "1110/1110 [==============================] - 2s 2ms/step - loss: 3538234112.0000 - val_loss: 3570028800.0000\n",
      "Epoch 6/10\n",
      "1110/1110 [==============================] - 2s 2ms/step - loss: 3538100480.0000 - val_loss: 3569834240.0000\n",
      "Epoch 7/10\n",
      "1110/1110 [==============================] - 2s 2ms/step - loss: 3537900032.0000 - val_loss: 3569608448.0000\n",
      "Epoch 8/10\n",
      "1110/1110 [==============================] - 2s 2ms/step - loss: 3537669888.0000 - val_loss: 3569422080.0000\n",
      "Epoch 9/10\n",
      "1110/1110 [==============================] - 2s 2ms/step - loss: 3537514496.0000 - val_loss: 3569254400.0000\n",
      "Epoch 10/10\n",
      "1110/1110 [==============================] - 2s 2ms/step - loss: 3537347840.0000 - val_loss: 3569081088.0000\n"
     ]
    }
   ],
   "source": [
    "history  = model.fit(X_train, y_train, epochs=10, batch_size=32, validation_data=(X_test, y_test))"
   ]
  },
  {
   "cell_type": "markdown",
   "id": "aa4b8461",
   "metadata": {},
   "source": [
    "## Evaluación de modelo RNA\n",
    "\n",
    "Defina las estadísticas (métricas) de evaluación, y dividiendo el dataset en datos de entrenamiento, validación y datos de test prueba tu propuesta.\n"
   ]
  },
  {
   "cell_type": "code",
   "execution_count": 126,
   "id": "632e260b",
   "metadata": {},
   "outputs": [
    {
     "name": "stdout",
     "output_type": "stream",
     "text": [
      "476/476 [==============================] - 1s 1ms/step - loss: 3569081088.0000\n",
      "476/476 [==============================] - 1s 1ms/step\n",
      "Loss: 3569081088.0\n",
      "MSE: 3569081761.692127\n",
      "RMSE: 59741.792421152946\n",
      "MAE: 31709.56708096941\n",
      "R^2: 0.02218137395271358\n"
     ]
    }
   ],
   "source": [
    "loss = model.evaluate(X_test, y_test)\n",
    "\n",
    "y_pred = model.predict(X_test)\n",
    "mse = mean_squared_error(y_test, y_pred)\n",
    "\n",
    "rmse = np.sqrt(mse)\n",
    "\n",
    "mae = mean_absolute_error(y_test, y_pred)\n",
    "r2 = r2_score(y_test, y_pred)\n",
    "\n",
    "print('Loss:', loss)\n",
    "print('MSE:', mse)\n",
    "print('RMSE:', rmse)\n",
    "print('MAE:', mae)\n",
    "print('R^2:', r2)"
   ]
  },
  {
   "cell_type": "markdown",
   "id": "7c6f1b82",
   "metadata": {},
   "source": [
    "### Visualice el progreso de entrenamiento del modelo y muestre las estadísticas de evaluación para los conjuntos de entrenamiento y validación.  "
   ]
  },
  {
   "cell_type": "code",
   "execution_count": 173,
   "id": "718e0bb0",
   "metadata": {},
   "outputs": [],
   "source": [
    "train_loss = history.history['loss']\n",
    "val_loss = history.history['val_loss']"
   ]
  },
  {
   "cell_type": "code",
   "execution_count": 128,
   "id": "9d6e2e0f",
   "metadata": {},
   "outputs": [
    {
     "name": "stdout",
     "output_type": "stream",
     "text": [
      "1110/1110 [==============================] - 1s 1ms/step - loss: 3536843008.0000\n",
      "476/476 [==============================] - 1s 1ms/step - loss: 3569081088.0000\n"
     ]
    }
   ],
   "source": [
    "train_metrics = model.evaluate(X_train, y_train)\n",
    "val_metrics = model.evaluate(X_test, y_test)"
   ]
  },
  {
   "cell_type": "code",
   "execution_count": 129,
   "id": "5cd92eca",
   "metadata": {},
   "outputs": [
    {
     "data": {
      "image/png": "[encoded data removed]",
      "text/plain": [
       "<Figure size 640x480 with 1 Axes>"
      ]
     },
     "metadata": {},
     "output_type": "display_data"
    }
   ],
   "source": [
    "plt.plot(train_loss, label='Train Loss')\n",
    "plt.plot(val_loss, label='Validation Loss')\n",
    "plt.xlabel('Epochs')\n",
    "plt.ylabel('Loss')\n",
    "plt.legend()\n",
    "plt.show()"
   ]
  },
  {
   "cell_type": "code",
   "execution_count": 130,
   "id": "2cec0972",
   "metadata": {},
   "outputs": [
    {
     "name": "stdout",
     "output_type": "stream",
     "text": [
      "Train Metrics: 3536843008.0\n",
      "Validation Metrics: 3569081088.0\n"
     ]
    }
   ],
   "source": [
    "print('Train Metrics:', train_metrics)\n",
    "print('Validation Metrics:', val_metrics)"
   ]
  },
  {
   "cell_type": "markdown",
   "id": "eda5b77c",
   "metadata": {},
   "source": [
    "### Evalúe los resultados  para el conjunto de test."
   ]
  },
  {
   "cell_type": "code",
   "execution_count": 135,
   "id": "2a466efc",
   "metadata": {},
   "outputs": [
    {
     "name": "stdout",
     "output_type": "stream",
     "text": [
      "1110/1110 [==============================] - 2s 1ms/step - loss: 3536843008.0000\n"
     ]
    }
   ],
   "source": [
    "train_loss = model.evaluate(X_train, y_train)"
   ]
  },
  {
   "cell_type": "code",
   "execution_count": 132,
   "id": "ee705461",
   "metadata": {},
   "outputs": [
    {
     "name": "stdout",
     "output_type": "stream",
     "text": [
      "Train Loss: 3536843008.0\n"
     ]
    }
   ],
   "source": [
    "print('Train Loss:', train_loss)"
   ]
  },
  {
   "cell_type": "markdown",
   "id": "6319adad",
   "metadata": {},
   "source": [
    "## Ajuste de modelos de Regresión alternativos"
   ]
  },
  {
   "cell_type": "markdown",
   "id": "d552bc64",
   "metadata": {},
   "source": [
    "Elige al menos un método de regresión no basado en redes neuronales (p.ej. regresión lineal, regresión polinómica, regresión logarítmica, SVR, random forest regression, etc.)."
   ]
  },
  {
   "cell_type": "code",
   "execution_count": 136,
   "id": "6e6966b1",
   "metadata": {},
   "outputs": [],
   "source": [
    "urlLR = 'https://raw.githubusercontent.com/TheAcademyDVR/dataset/master/data/Air_Traffic_Passenger_Statistics.csv'\n",
    "dfLR = pd.read_csv(url)"
   ]
  },
  {
   "cell_type": "code",
   "execution_count": 141,
   "id": "ba889642",
   "metadata": {},
   "outputs": [],
   "source": [
    "XLR = dfLR[['Operating Airline']]\n",
    "yLR = dfLR['Passenger Count']"
   ]
  },
  {
   "cell_type": "code",
   "execution_count": 143,
   "id": "58900b42",
   "metadata": {},
   "outputs": [],
   "source": [
    "XLR = pd.get_dummies(XLR)"
   ]
  },
  {
   "cell_type": "code",
   "execution_count": 144,
   "id": "05fdd36b",
   "metadata": {},
   "outputs": [],
   "source": [
    "X_trainLR, X_testLR, y_trainLR, y_testLR = train_test_split(XLR, yLR, test_size=0.3, random_state=42)\n"
   ]
  },
  {
   "cell_type": "code",
   "execution_count": 145,
   "id": "002ec244",
   "metadata": {},
   "outputs": [
    {
     "data": {
      "text/html": [
       "<style>#sk-container-id-3 {color: black;background-color: white;}#sk-container-id-3 pre{padding: 0;}#sk-container-id-3 div.sk-toggleable {background-color: white;}#sk-container-id-3 label.sk-toggleable__label {cursor: pointer;display: block;width: 100%;margin-bottom: 0;padding: 0.3em;box-sizing: border-box;text-align: center;}#sk-container-id-3 label.sk-toggleable__label-arrow:before {content: \"▸\";float: left;margin-right: 0.25em;color: #696969;}#sk-container-id-3 label.sk-toggleable__label-arrow:hover:before {color: black;}#sk-container-id-3 div.sk-estimator:hover label.sk-toggleable__label-arrow:before {color: black;}#sk-container-id-3 div.sk-toggleable__content {max-height: 0;max-width: 0;overflow: hidden;text-align: left;background-color: #f0f8ff;}#sk-container-id-3 div.sk-toggleable__content pre {margin: 0.2em;color: black;border-radius: 0.25em;background-color: #f0f8ff;}#sk-container-id-3 input.sk-toggleable__control:checked~div.sk-toggleable__content {max-height: 200px;max-width: 100%;overflow: auto;}#sk-container-id-3 input.sk-toggleable__control:checked~label.sk-toggleable__label-arrow:before {content: \"▾\";}#sk-container-id-3 div.sk-estimator input.sk-toggleable__control:checked~label.sk-toggleable__label {background-color: #d4ebff;}#sk-container-id-3 div.sk-label input.sk-toggleable__control:checked~label.sk-toggleable__label {background-color: #d4ebff;}#sk-container-id-3 input.sk-hidden--visually {border: 0;clip: rect(1px 1px 1px 1px);clip: rect(1px, 1px, 1px, 1px);height: 1px;margin: -1px;overflow: hidden;padding: 0;position: absolute;width: 1px;}#sk-container-id-3 div.sk-estimator {font-family: monospace;background-color: #f0f8ff;border: 1px dotted black;border-radius: 0.25em;box-sizing: border-box;margin-bottom: 0.5em;}#sk-container-id-3 div.sk-estimator:hover {background-color: #d4ebff;}#sk-container-id-3 div.sk-parallel-item::after {content: \"\";width: 100%;border-bottom: 1px solid gray;flex-grow: 1;}#sk-container-id-3 div.sk-label:hover label.sk-toggleable__label {background-color: #d4ebff;}#sk-container-id-3 div.sk-serial::before {content: \"\";position: absolute;border-left: 1px solid gray;box-sizing: border-box;top: 0;bottom: 0;left: 50%;z-index: 0;}#sk-container-id-3 div.sk-serial {display: flex;flex-direction: column;align-items: center;background-color: white;padding-right: 0.2em;padding-left: 0.2em;position: relative;}#sk-container-id-3 div.sk-item {position: relative;z-index: 1;}#sk-container-id-3 div.sk-parallel {display: flex;align-items: stretch;justify-content: center;background-color: white;position: relative;}#sk-container-id-3 div.sk-item::before, #sk-container-id-3 div.sk-parallel-item::before {content: \"\";position: absolute;border-left: 1px solid gray;box-sizing: border-box;top: 0;bottom: 0;left: 50%;z-index: -1;}#sk-container-id-3 div.sk-parallel-item {display: flex;flex-direction: column;z-index: 1;position: relative;background-color: white;}#sk-container-id-3 div.sk-parallel-item:first-child::after {align-self: flex-end;width: 50%;}#sk-container-id-3 div.sk-parallel-item:last-child::after {align-self: flex-start;width: 50%;}#sk-container-id-3 div.sk-parallel-item:only-child::after {width: 0;}#sk-container-id-3 div.sk-dashed-wrapped {border: 1px dashed gray;margin: 0 0.4em 0.5em 0.4em;box-sizing: border-box;padding-bottom: 0.4em;background-color: white;}#sk-container-id-3 div.sk-label label {font-family: monospace;font-weight: bold;display: inline-block;line-height: 1.2em;}#sk-container-id-3 div.sk-label-container {text-align: center;}#sk-container-id-3 div.sk-container {/* jupyter's `normalize.less` sets `[hidden] { display: none; }` but bootstrap.min.css set `[hidden] { display: none !important; }` so we also need the `!important` here to be able to override the default hidden behavior on the sphinx rendered scikit-learn.org. See: https://github.com/scikit-learn/scikit-learn/issues/21755 */display: inline-block !important;position: relative;}#sk-container-id-3 div.sk-text-repr-fallback {display: none;}</style><div id=\"sk-container-id-3\" class=\"sk-top-container\"><div class=\"sk-text-repr-fallback\"><pre>LinearRegression()</pre><b>In a Jupyter environment, please rerun this cell to show the HTML representation or trust the notebook. <br />On GitHub, the HTML representation is unable to render, please try loading this page with nbviewer.org.</b></div><div class=\"sk-container\" hidden><div class=\"sk-item\"><div class=\"sk-estimator sk-toggleable\"><input class=\"sk-toggleable__control sk-hidden--visually\" id=\"sk-estimator-id-3\" type=\"checkbox\" checked><label for=\"sk-estimator-id-3\" class=\"sk-toggleable__label sk-toggleable__label-arrow\">LinearRegression</label><div class=\"sk-toggleable__content\"><pre>LinearRegression()</pre></div></div></div></div></div>"
      ],
      "text/plain": [
       "LinearRegression()"
      ]
     },
     "execution_count": 145,
     "metadata": {},
     "output_type": "execute_result"
    }
   ],
   "source": [
    "model = LinearRegression()\n",
    "model.fit(X_trainLR, y_trainLR)"
   ]
  },
  {
   "cell_type": "code",
   "execution_count": 146,
   "id": "b47965df",
   "metadata": {},
   "outputs": [],
   "source": [
    "y_predLR = model.predict(X_testLR)"
   ]
  },
  {
   "cell_type": "code",
   "execution_count": 148,
   "id": "221bb94b",
   "metadata": {},
   "outputs": [],
   "source": [
    "mseLR = mean_squared_error(y_testLR, y_predLR)\n",
    "rmseLR = mean_squared_error(y_testLR, y_predLR, squared=False)\n",
    "maeLR = mean_absolute_error(y_testLR, y_predLR)\n",
    "r2LR = r2_score(y_testLR, y_predLR)"
   ]
  },
  {
   "cell_type": "code",
   "execution_count": 161,
   "id": "5511e63d",
   "metadata": {},
   "outputs": [
    {
     "name": "stdout",
     "output_type": "stream",
     "text": [
      "MSELR: 1.7333714750436904e+30\n",
      "RMSELR: 1316575662483433.0\n",
      "MAELR: 10672170750575.197\n",
      "R^2LR: -4.748904696857391e+20\n"
     ]
    }
   ],
   "source": [
    "print('MSELR:', mseLR)\n",
    "print('RMSELR:', rmseLR)\n",
    "print('MAELR:', maeLR)\n",
    "print('R^2LR:', r2LR)"
   ]
  },
  {
   "cell_type": "markdown",
   "id": "ad219a0c",
   "metadata": {},
   "source": [
    "Estos resultados indican que el modelo de regresión lineal no se ajusta bien a los datos y presenta un rendimiento muy deficiente. El MSE y el RMSE son extremadamente altos, lo cual implica una gran discrepancia entre los valores predichos y los valores reales. El MAE también es muy elevado, lo que sugiere una gran diferencia promedio entre las predicciones y los valores reales. Además, el valor de R^2 es muy bajo y negativo, lo que indica que el modelo no puede explicar la variabilidad de los datos y su rendimiento es peor que simplemente usar la media como estimador. Esto indican que la regresión lineal no es un buen modelo para este conjunto de datos. Sería necesario explorar otros enfoques o técnicas de modelado para obtener mejores resultados en la predicción de la variable objetivo."
   ]
  },
  {
   "cell_type": "markdown",
   "id": "44df4eb5",
   "metadata": {},
   "source": [
    "## Comparación del desempeño de modelos\n",
    "\n",
    "Muestra los resultados obtenidos por los diferentes algoritmos escogidos de forma gráfica y comparada/superpuesta."
   ]
  },
  {
   "cell_type": "markdown",
   "id": "6fdf385e",
   "metadata": {},
   "source": [
    "Código para mostrar la comparación de métricas de desempeño de las dos propuestas en tabla"
   ]
  },
  {
   "cell_type": "code",
   "execution_count": 175,
   "id": "973ccb5c",
   "metadata": {},
   "outputs": [],
   "source": [
    "metrics = {\n",
    "    'Modelo': ['Regresión de Redes Neuronales', 'Regresión Lineal'],\n",
    "    'MSE': [mse, mseLR],\n",
    "    'RMSE': [rmse, rmseLR],\n",
    "    'MAE': [mae, maeLR],\n",
    "    'R^2': [r2, r2LR]\n",
    "}"
   ]
  },
  {
   "cell_type": "code",
   "execution_count": 176,
   "id": "3b8e7be5",
   "metadata": {},
   "outputs": [
    {
     "name": "stdout",
     "output_type": "stream",
     "text": [
      "             Modelo           MSE          RMSE           MAE           R^2\n",
      "0  Redes Neuronales  3.569082e+09  5.974179e+04  3.170957e+04  2.218137e-02\n",
      "1  Regresión Lineal  1.733371e+30  1.316576e+15  1.067217e+13 -4.748905e+20\n"
     ]
    }
   ],
   "source": [
    "# Crear un DataFrame a partir del diccionario\n",
    "df_results = pd.DataFrame(results)\n",
    "\n",
    "# Imprimir la tabla de comparación de métricas de desempeño\n",
    "print(df_results)"
   ]
  },
  {
   "cell_type": "markdown",
   "id": "5a819aed",
   "metadata": {},
   "source": [
    "Código para mostrar la comparación de métricas de desempeño de las dos propuestas en gráfica"
   ]
  },
  {
   "cell_type": "markdown",
   "id": "3226a8bb",
   "metadata": {},
   "source": [
    ">- Gráfica entre RNA y Regresión Lineal"
   ]
  },
  {
   "cell_type": "code",
   "execution_count": 168,
   "id": "8297fc32",
   "metadata": {},
   "outputs": [],
   "source": [
    "mse_values = [mse, mseLR]\n",
    "rmse_values = [rmse, rmseLR]\n",
    "mae_values = [mae, maeLR]\n",
    "r2_values = [r2, r2LR]"
   ]
  },
  {
   "cell_type": "code",
   "execution_count": 169,
   "id": "e3654632",
   "metadata": {},
   "outputs": [
    {
     "data": {
      "image/png": "[encoded data removed]",
      "text/plain": [
       "<Figure size 1000x600 with 1 Axes>"
      ]
     },
     "metadata": {},
     "output_type": "display_data"
    }
   ],
   "source": [
    "\n",
    "model_labels = ['RNA', 'Regresión Lineal']\n",
    "\n",
    "# Crear el gráfico de barras\n",
    "plt.figure(figsize=(10, 6))\n",
    "plt.bar(model_labels, mse_values, label='MSE')\n",
    "plt.bar(model_labels, rmse_values, label='RMSE')\n",
    "plt.bar(model_labels, mae_values, label='MAE')\n",
    "plt.bar(model_labels, r2_values, label='R^2')\n",
    "\n",
    "# Añadir título y leyenda\n",
    "plt.title('Comparación de Métricas de Desempeño')\n",
    "plt.legend()\n",
    "\n",
    "# Mostrar el gráfico\n",
    "plt.show()\n"
   ]
  },
  {
   "cell_type": "markdown",
   "id": "795c7bec",
   "metadata": {},
   "source": [
    ">- Otra gráfica bajo etiqueta de las métricas MSE, RMSE, MAE y R^2."
   ]
  },
  {
   "cell_type": "code",
   "execution_count": 170,
   "id": "427245a1",
   "metadata": {},
   "outputs": [
    {
     "data": {
      "image/png": "[encoded data removed]",
      "text/plain": [
       "<Figure size 1000x600 with 1 Axes>"
      ]
     },
     "metadata": {},
     "output_type": "display_data"
    }
   ],
   "source": [
    "\n",
    "# Etiquetas de las métricas\n",
    "metrics = ['MSE', 'RMSE', 'MAE', 'R^2']\n",
    "\n",
    "# Valores de las métricas para cada modelo\n",
    "rnn_values = [mse, rmse, mae, r2]\n",
    "rl_values = [mseLR, rmseLR, maeLR, r2LR]\n",
    "\n",
    "# Posiciones en el eje x para cada métrica\n",
    "x = range(len(metrics))\n",
    "\n",
    "# Crear el gráfico\n",
    "plt.figure(figsize=(10, 6))\n",
    "plt.bar(x, rnn_values, width=0.4, label='Regresión Redes Neuronales')\n",
    "plt.bar(x, rl_values, width=0.4, label='Regresión Lineal', alpha=0.5)\n",
    "\n",
    "# Configurar los ejes\n",
    "plt.xlabel('Métrica')\n",
    "plt.ylabel('Valor')\n",
    "plt.xticks(x, metrics)\n",
    "plt.title('Comparación de Métricas de Desempeño')\n",
    "plt.legend()\n",
    "\n",
    "# Mostrar el gráfico\n",
    "plt.show()\n"
   ]
  },
  {
   "cell_type": "markdown",
   "id": "f11d5ab4",
   "metadata": {},
   "source": [
    "En esta tabla se pueden comparar las métricas de desempeño de las redes neuronales y la regresión lineal. Las redes neuronales muestran un MSE, RMSE y MAE más bajos, lo cual indica una menor discrepancia entre las predicciones y los valores reales en comparación con la regresión lineal. Además, el R^2 de las redes neuronales es positivo, lo que sugiere que el modelo puede explicar parte de la variabilidad de los datos. Por otro lado, la regresión lineal tiene métricas de desempeño extremadamente altas y un R^2 negativo, lo que indica un rendimiento muy deficiente."
   ]
  },
  {
   "cell_type": "markdown",
   "id": "f810fb47",
   "metadata": {
    "ExecuteTime": {
     "end_time": "2022-03-14T16:16:57.134093Z",
     "start_time": "2022-03-14T16:16:57.117129Z"
    }
   },
   "source": [
    "## Discusión de los resultados obtenidos y argumentos sobre cómo se podrían mejorar de dichos resultados"
   ]
  },
  {
   "cell_type": "markdown",
   "id": "3e68e34c",
   "metadata": {},
   "source": [
    "En base a los resultados obtenidos, se puede concluir que tanto el modelo de Regresión de Redes Neuronales como el modelo de Regresión Lineal presentan un desempeño insatisfactorio en la tarea de predicción de los datos de tráfico aéreo de pasajeros. Ambos modelos obtienen valores negativos de R^2, lo que indica que no logran capturar de manera adecuada la variabilidad de los datos. Además, los valores de MSE, RMSE y MAE son relativamente altos, lo que indica una discrepancia significativa entre las predicciones y los valores reales."
   ]
  },
  {
   "cell_type": "markdown",
   "id": "1b4919ea",
   "metadata": {},
   "source": [
    "Resultados comparados."
   ]
  },
  {
   "cell_type": "markdown",
   "id": "f391f779",
   "metadata": {},
   "source": [
    ">- Los resultados comparados de las métricas de desempeño muestran claramente que la red neuronal supera significativamente a la regresión lineal en todos los aspectos evaluados. La red neuronal tiene un menor error cuadrático medio (MSE), un menor error cuadrático medio raíz (RMSE) y un menor error absoluto medio (MAE), lo que indica una mejor precisión en las predicciones. Además, la red neuronal tiene un coeficiente de determinación (R^2) positivo, lo que sugiere que puede explicar parte de la variabilidad de los datos. Por otro lado, la regresión lineal muestra un rendimiento muy deficiente en todas las métricas, con valores extremadamente altos y negativos en MSE, RMSE, MAE y R^2.\n"
   ]
  },
  {
   "cell_type": "markdown",
   "id": "864750db",
   "metadata": {},
   "source": [
    "Conclusiones objetivas y significantes con base a las diferentes métricas escogidas. "
   ]
  },
  {
   "cell_type": "markdown",
   "id": "31962014",
   "metadata": {},
   "source": [
    ">- MSE (Mean Squared Error): El modelo de Redes Neuronales tiene un MSE de 3.569082e+09, mientras que la Regresión Lineal tiene un MSE extremadamente alto de 1.733371e+30. Esto indica que las predicciones de las Redes Neuronales tienen una menor discrepancia con los valores reales en comparación con la Regresión Lineal.\n",
    "\n",
    ">- RMSE (Root Mean Squared Error): Similar al MSE, el modelo de Redes Neuronales tiene un RMSE de 59741.792421, que es significativamente menor que el RMSE de la Regresión Lineal de 1.316576e+15. Esto confirma que las predicciones de las Redes Neuronales están más cercanas a los valores reales en comparación con la Regresión Lineal.\n",
    "\n",
    ">- MAE (Mean Absolute Error): Nuevamente, el modelo de Redes Neuronales muestra un MAE de 31709.567081, mientras que la Regresión Lineal tiene un MAE mucho más alto de 1.067217e+13. Esto indica que las predicciones de las Redes Neuronales tienen un error absoluto medio menor en comparación con la Regresión Lineal.\n",
    "\n",
    ">- R^2 (Coeficiente de determinación): El modelo de Redes Neuronales tiene un R^2 positivo de 2.218137e-02, lo que indica que puede explicar una pequeña parte de la variabilidad de los datos. Por otro lado, la Regresión Lineal tiene un R^2 extremadamente negativo de -4.748905e+20, lo que indica un rendimiento muy pobre y que el modelo no puede explicar la variabilidad de los datos.\n"
   ]
  },
  {
   "cell_type": "markdown",
   "id": "626a13e4",
   "metadata": {},
   "source": [
    ">- Las métricas de desempeño de las Redes Neuronales son significativamente mejores que las de la Regresión Lineal. Las Redes Neuronales tienen un menor error y son capaces de explicar parte de la variabilidad en los datos. Por lo tanto, se puede concluir que las Redes Neuronales son una mejor opción para este problema de regresión en comparación con la Regresión Lineal."
   ]
  },
  {
   "cell_type": "markdown",
   "id": "813f9887",
   "metadata": {},
   "source": [
    "Argumentos que describan con qué técnica se obtienen mejores resultados en base a las diferentes métricas que hayas escogido\n",
    "\n",
    ">- En base en estas métricas, las redes neuronales proporcionan mejores resultados en comparación con la regresión lineal. Tienen un menor error promedio y una menor discrepancia entre las predicciones y los valores reales, lo que indica una mejor capacidad para ajustarse a los datos y hacer predicciones más precisas. Sin embargo, es importante considerar otros factores, como la interpretabilidad del modelo y la complejidad computacional, al elegir la técnica más adecuada para resolver un problema en particular"
   ]
  },
  {
   "cell_type": "markdown",
   "id": "c74b3044",
   "metadata": {},
   "source": [
    "Explicación de cómo se podrían mejorar los resultados obtenidos por las redes neuronales, independientemente de que mejoren o no a los algoritmos no basados en redes neuronales."
   ]
  },
  {
   "cell_type": "markdown",
   "id": "c6b7b401",
   "metadata": {},
   "source": [
    ">- Se pueden agregar capas ocultas y aumentar el número de neuronas en cada capa para permitir que la red neuronal capture relaciones más complejas en los datos. Esto puede ayudar a mejorar la capacidad del modelo para aprender patrones y hacer predicciones más precisas.\n",
    "\n",
    ">- Se pueden explorar y generar características adicionales a partir de los datos existentes. Esto implica analizar en profundidad los datos y crear nuevas variables que capturen mejor la información relevante para el problema en cuestión. Estas características adicionales pueden mejorar el rendimiento del modelo al proporcionar información más discriminativa.\n",
    "\n",
    ">- Si se dispone de un conjunto de datos limitado, se puede considerar la generación de datos sintéticos mediante técnicas como la rotación, traslación, zoom u otras transformaciones para aumentar la diversidad de ejemplos en el conjunto de entrenamiento. Esto puede ayudar al modelo a generalizar mejor y mejorar su capacidad de predicción."
   ]
  }
 ],
 "metadata": {
  "kernelspec": {
   "display_name": "Python 3 (ipykernel)",
   "language": "python",
   "name": "python3"
  },
  "language_info": {
   "codemirror_mode": {
    "name": "ipython",
    "version": 3
   },
   "file_extension": ".py",
   "mimetype": "text/x-python",
   "name": "python",
   "nbconvert_exporter": "python",
   "pygments_lexer": "ipython3",
   "version": "3.10.9"
  },
  "toc": {
   "base_numbering": 1,
   "nav_menu": {},
   "number_sections": true,
   "sideBar": true,
   "skip_h1_title": true,
   "title_cell": "Tabla de Contenido",
   "title_sidebar": "Contenido",
   "toc_cell": false,
   "toc_position": {
    "height": "calc(100% - 180px)",
    "left": "10px",
    "top": "150px",
    "width": "263.591px"
   },
   "toc_section_display": true,
   "toc_window_display": true
  }
 },
 "nbformat": 4,
 "nbformat_minor": 5
}
