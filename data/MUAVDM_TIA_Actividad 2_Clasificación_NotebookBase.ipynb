{
 "cells": [
  {
   "cell_type": "markdown",
   "id": "de1406ba",
   "metadata": {},
   "source": [
    "<img src=\"https://www.unir.net/wp-content/uploads/2019/11/Unir_2021_logo.svg\" width=\"240\" height=\"240\" align=\"right\"/>"
   ]
  },
  {
   "cell_type": "markdown",
   "id": "8b6f603c",
   "metadata": {},
   "source": [
    "<center><h1>Técnicas de Inteligencia Artificial</header1></center>\n",
    "<left><h1>Actividad 2. Trabajando con redes neuronales y Deep Learning</header1></left>"
   ]
  },
  {
   "cell_type": "markdown",
   "id": "3eb1aaac",
   "metadata": {},
   "source": [
    "Presentado por: Nombres Apellidos  <br>\n",
    "Fecha: DD/MM/2022"
   ]
  },
  {
   "cell_type": "markdown",
   "id": "1dec299b",
   "metadata": {
    "ExecuteTime": {
     "end_time": "2022-03-14T15:14:04.930713Z",
     "start_time": "2022-03-14T15:14:04.921682Z"
    }
   },
   "source": [
    "# Importación de librerias necesarias"
   ]
  },
  {
   "cell_type": "code",
   "execution_count": 1,
   "id": "1ee5665c",
   "metadata": {},
   "outputs": [],
   "source": [
    "import pandas as pd\n",
    "import matplotlib.pyplot as plt\n",
    "import numpy as np"
   ]
  },
  {
   "cell_type": "markdown",
   "id": "62f9424f",
   "metadata": {},
   "source": [
    "# Parte II. Clasificación"
   ]
  },
  {
   "cell_type": "code",
   "execution_count": 2,
   "id": "6d1abf7a",
   "metadata": {
    "ExecuteTime": {
     "end_time": "2022-03-14T15:14:46.228059Z",
     "start_time": "2022-03-14T15:14:46.223108Z"
    }
   },
   "outputs": [],
   "source": [
    "from sklearn.tree import DecisionTreeRegressor\n",
    "\n",
    "from sklearn.preprocessing import LabelEncoder\n",
    "from sklearn.model_selection import train_test_split\n",
    "from sklearn.preprocessing import StandardScaler\n",
    "from sklearn.metrics import mean_squared_error, mean_absolute_error, r2_score\n",
    "\n",
    "from tensorflow.keras.models import Sequential\n",
    "from tensorflow.keras.layers import Dense"
   ]
  },
  {
   "cell_type": "markdown",
   "id": "6a44b924",
   "metadata": {},
   "source": [
    "## Cargar el Dataset\n",
    "\n",
    "Con al menos 1000 instancias, una variable/atributo de la salida, y que dependa de, al menos, 6 variables/atributos de entrada. "
   ]
  },
  {
   "cell_type": "code",
   "execution_count": 3,
   "id": "3541e808",
   "metadata": {},
   "outputs": [
    {
     "data": {
      "text/html": [
       "<div>\n",
       "<style scoped>\n",
       "    .dataframe tbody tr th:only-of-type {\n",
       "        vertical-align: middle;\n",
       "    }\n",
       "\n",
       "    .dataframe tbody tr th {\n",
       "        vertical-align: top;\n",
       "    }\n",
       "\n",
       "    .dataframe thead th {\n",
       "        text-align: right;\n",
       "    }\n",
       "</style>\n",
       "<table border=\"1\" class=\"dataframe\">\n",
       "  <thead>\n",
       "    <tr style=\"text-align: right;\">\n",
       "      <th></th>\n",
       "      <th>Activity Period</th>\n",
       "      <th>Operating Airline</th>\n",
       "      <th>Operating Airline IATA Code</th>\n",
       "      <th>Published Airline</th>\n",
       "      <th>Published Airline IATA Code</th>\n",
       "      <th>GEO Summary</th>\n",
       "      <th>GEO Region</th>\n",
       "      <th>Activity Type Code</th>\n",
       "      <th>Price Category Code</th>\n",
       "      <th>Terminal</th>\n",
       "      <th>Boarding Area</th>\n",
       "      <th>Passenger Count</th>\n",
       "    </tr>\n",
       "  </thead>\n",
       "  <tbody>\n",
       "    <tr>\n",
       "      <th>0</th>\n",
       "      <td>200507</td>\n",
       "      <td>ATA Airlines</td>\n",
       "      <td>TZ</td>\n",
       "      <td>ATA Airlines</td>\n",
       "      <td>TZ</td>\n",
       "      <td>Domestic</td>\n",
       "      <td>US</td>\n",
       "      <td>Deplaned</td>\n",
       "      <td>Low Fare</td>\n",
       "      <td>Terminal 1</td>\n",
       "      <td>B</td>\n",
       "      <td>27271</td>\n",
       "    </tr>\n",
       "    <tr>\n",
       "      <th>1</th>\n",
       "      <td>200507</td>\n",
       "      <td>ATA Airlines</td>\n",
       "      <td>TZ</td>\n",
       "      <td>ATA Airlines</td>\n",
       "      <td>TZ</td>\n",
       "      <td>Domestic</td>\n",
       "      <td>US</td>\n",
       "      <td>Enplaned</td>\n",
       "      <td>Low Fare</td>\n",
       "      <td>Terminal 1</td>\n",
       "      <td>B</td>\n",
       "      <td>29131</td>\n",
       "    </tr>\n",
       "    <tr>\n",
       "      <th>2</th>\n",
       "      <td>200507</td>\n",
       "      <td>ATA Airlines</td>\n",
       "      <td>TZ</td>\n",
       "      <td>ATA Airlines</td>\n",
       "      <td>TZ</td>\n",
       "      <td>Domestic</td>\n",
       "      <td>US</td>\n",
       "      <td>Thru / Transit</td>\n",
       "      <td>Low Fare</td>\n",
       "      <td>Terminal 1</td>\n",
       "      <td>B</td>\n",
       "      <td>5415</td>\n",
       "    </tr>\n",
       "    <tr>\n",
       "      <th>3</th>\n",
       "      <td>200507</td>\n",
       "      <td>Air Canada</td>\n",
       "      <td>AC</td>\n",
       "      <td>Air Canada</td>\n",
       "      <td>AC</td>\n",
       "      <td>International</td>\n",
       "      <td>Canada</td>\n",
       "      <td>Deplaned</td>\n",
       "      <td>Other</td>\n",
       "      <td>Terminal 1</td>\n",
       "      <td>B</td>\n",
       "      <td>35156</td>\n",
       "    </tr>\n",
       "    <tr>\n",
       "      <th>4</th>\n",
       "      <td>200507</td>\n",
       "      <td>Air Canada</td>\n",
       "      <td>AC</td>\n",
       "      <td>Air Canada</td>\n",
       "      <td>AC</td>\n",
       "      <td>International</td>\n",
       "      <td>Canada</td>\n",
       "      <td>Enplaned</td>\n",
       "      <td>Other</td>\n",
       "      <td>Terminal 1</td>\n",
       "      <td>B</td>\n",
       "      <td>34090</td>\n",
       "    </tr>\n",
       "    <tr>\n",
       "      <th>...</th>\n",
       "      <td>...</td>\n",
       "      <td>...</td>\n",
       "      <td>...</td>\n",
       "      <td>...</td>\n",
       "      <td>...</td>\n",
       "      <td>...</td>\n",
       "      <td>...</td>\n",
       "      <td>...</td>\n",
       "      <td>...</td>\n",
       "      <td>...</td>\n",
       "      <td>...</td>\n",
       "      <td>...</td>\n",
       "    </tr>\n",
       "    <tr>\n",
       "      <th>50725</th>\n",
       "      <td>202212</td>\n",
       "      <td>Vietnam Airlines JSC</td>\n",
       "      <td>VN</td>\n",
       "      <td>Vietnam Airlines JSC</td>\n",
       "      <td>VN</td>\n",
       "      <td>International</td>\n",
       "      <td>Asia</td>\n",
       "      <td>Enplaned</td>\n",
       "      <td>Other</td>\n",
       "      <td>International</td>\n",
       "      <td>A</td>\n",
       "      <td>3197</td>\n",
       "    </tr>\n",
       "    <tr>\n",
       "      <th>50726</th>\n",
       "      <td>202212</td>\n",
       "      <td>Virgin Atlantic</td>\n",
       "      <td>VS</td>\n",
       "      <td>Virgin Atlantic</td>\n",
       "      <td>VS</td>\n",
       "      <td>International</td>\n",
       "      <td>Europe</td>\n",
       "      <td>Deplaned</td>\n",
       "      <td>Other</td>\n",
       "      <td>International</td>\n",
       "      <td>A</td>\n",
       "      <td>5836</td>\n",
       "    </tr>\n",
       "    <tr>\n",
       "      <th>50727</th>\n",
       "      <td>202212</td>\n",
       "      <td>Virgin Atlantic</td>\n",
       "      <td>VS</td>\n",
       "      <td>Virgin Atlantic</td>\n",
       "      <td>VS</td>\n",
       "      <td>International</td>\n",
       "      <td>Europe</td>\n",
       "      <td>Enplaned</td>\n",
       "      <td>Other</td>\n",
       "      <td>International</td>\n",
       "      <td>A</td>\n",
       "      <td>6650</td>\n",
       "    </tr>\n",
       "    <tr>\n",
       "      <th>50728</th>\n",
       "      <td>202212</td>\n",
       "      <td>WestJet Airlines</td>\n",
       "      <td>WS</td>\n",
       "      <td>WestJet Airlines</td>\n",
       "      <td>WS</td>\n",
       "      <td>International</td>\n",
       "      <td>Canada</td>\n",
       "      <td>Deplaned</td>\n",
       "      <td>Other</td>\n",
       "      <td>International</td>\n",
       "      <td>A</td>\n",
       "      <td>1679</td>\n",
       "    </tr>\n",
       "    <tr>\n",
       "      <th>50729</th>\n",
       "      <td>202212</td>\n",
       "      <td>WestJet Airlines</td>\n",
       "      <td>WS</td>\n",
       "      <td>WestJet Airlines</td>\n",
       "      <td>WS</td>\n",
       "      <td>International</td>\n",
       "      <td>Canada</td>\n",
       "      <td>Enplaned</td>\n",
       "      <td>Other</td>\n",
       "      <td>International</td>\n",
       "      <td>A</td>\n",
       "      <td>1857</td>\n",
       "    </tr>\n",
       "  </tbody>\n",
       "</table>\n",
       "<p>50730 rows × 12 columns</p>\n",
       "</div>"
      ],
      "text/plain": [
       "       Activity Period     Operating Airline Operating Airline IATA Code  \\\n",
       "0               200507          ATA Airlines                          TZ   \n",
       "1               200507          ATA Airlines                          TZ   \n",
       "2               200507          ATA Airlines                          TZ   \n",
       "3               200507            Air Canada                          AC   \n",
       "4               200507            Air Canada                          AC   \n",
       "...                ...                   ...                         ...   \n",
       "50725           202212  Vietnam Airlines JSC                          VN   \n",
       "50726           202212       Virgin Atlantic                          VS   \n",
       "50727           202212       Virgin Atlantic                          VS   \n",
       "50728           202212      WestJet Airlines                          WS   \n",
       "50729           202212      WestJet Airlines                          WS   \n",
       "\n",
       "          Published Airline Published Airline IATA Code    GEO Summary  \\\n",
       "0              ATA Airlines                          TZ       Domestic   \n",
       "1              ATA Airlines                          TZ       Domestic   \n",
       "2              ATA Airlines                          TZ       Domestic   \n",
       "3                Air Canada                          AC  International   \n",
       "4                Air Canada                          AC  International   \n",
       "...                     ...                         ...            ...   \n",
       "50725  Vietnam Airlines JSC                          VN  International   \n",
       "50726       Virgin Atlantic                          VS  International   \n",
       "50727       Virgin Atlantic                          VS  International   \n",
       "50728      WestJet Airlines                          WS  International   \n",
       "50729      WestJet Airlines                          WS  International   \n",
       "\n",
       "      GEO Region Activity Type Code Price Category Code       Terminal  \\\n",
       "0             US           Deplaned            Low Fare     Terminal 1   \n",
       "1             US           Enplaned            Low Fare     Terminal 1   \n",
       "2             US     Thru / Transit            Low Fare     Terminal 1   \n",
       "3         Canada           Deplaned               Other     Terminal 1   \n",
       "4         Canada           Enplaned               Other     Terminal 1   \n",
       "...          ...                ...                 ...            ...   \n",
       "50725       Asia           Enplaned               Other  International   \n",
       "50726     Europe           Deplaned               Other  International   \n",
       "50727     Europe           Enplaned               Other  International   \n",
       "50728     Canada           Deplaned               Other  International   \n",
       "50729     Canada           Enplaned               Other  International   \n",
       "\n",
       "      Boarding Area  Passenger Count  \n",
       "0                 B            27271  \n",
       "1                 B            29131  \n",
       "2                 B             5415  \n",
       "3                 B            35156  \n",
       "4                 B            34090  \n",
       "...             ...              ...  \n",
       "50725             A             3197  \n",
       "50726             A             5836  \n",
       "50727             A             6650  \n",
       "50728             A             1679  \n",
       "50729             A             1857  \n",
       "\n",
       "[50730 rows x 12 columns]"
      ]
     },
     "execution_count": 3,
     "metadata": {},
     "output_type": "execute_result"
    }
   ],
   "source": [
    "#Código para cargar el Dataset\n",
    "#url = 'https://raw.githubusercontent.com/oscar-unir/TIA/main/datasets/car/Laboratorio_dataset_car.csv'\n",
    "url = 'https://raw.githubusercontent.com/TheAcademyDVR/dataset/master/data/Air_Traffic_Passenger_Statistics.csv'\n",
    "df = pd.read_csv(url)\n",
    "df"
   ]
  },
  {
   "cell_type": "markdown",
   "id": "c251c248",
   "metadata": {},
   "source": [
    "## Descripción de la fuente del Dataset"
   ]
  },
  {
   "cell_type": "markdown",
   "id": "53452ea7",
   "metadata": {},
   "source": [
    "La fuente del dataset es un archivo CSV llamado \"Air_Traffic_Passenger_Statistics.csv\" y se encuentra alojado en el repositorio de GitHub de TheAcademyDVR.\n",
    "\n",
    "URL: https://github.com/TheAcademyDVR/dataset/blob/master/data/Air_Traffic_Passenger_Statistics.csvHaga."
   ]
  },
  {
   "cell_type": "markdown",
   "id": "7f868eab",
   "metadata": {},
   "source": [
    "## Explique el problema a resolver. \n",
    "Descripción del problema. Tipo de problema (justifique). Variable objetivo, variables de entrada. Utilidad de su posible solución. Elementos adicionales que considere relevantes (no son necesarios contenidos teóricos, sino explicar qué relaciones tratas de comprobar y con qué métodos)."
   ]
  },
  {
   "cell_type": "markdown",
   "id": "a0b719c1",
   "metadata": {},
   "source": [
    "## Caracterización del Dataset\n",
    "\n",
    "Realice una descripción de los datos con: 12\n",
    "\n",
    "Número de instancias en total.\n",
    "Número de atributos de entrada, su significado y tipo.\n",
    "- Activity Period: Período de actividad (tipo: entero)\n",
    "- Operating Airline: Aerolínea operativa (tipo: cadena de texto)\n",
    "- Operating Airline IATA Code: Código IATA de la aerolínea operativa (tipo: cadena de texto)\n",
    "- Published Airline: Aerolínea publicada (tipo: cadena de texto)\n",
    "- Published Airline IATA Code: Código IATA de la aerolínea publicada (tipo: cadena de texto)\n",
    "- GEO Summary: Resumen geográfico (tipo: cadena de texto)\n",
    "- GEO Region: Región geográfica (tipo: cadena de texto)\n",
    "- Activity Type Code: Código de tipo de actividad (tipo: cadena de texto)\n",
    "- Price Category Code: Código de categoría de precio (tipo: cadena de texto)\n",
    "- Terminal: Terminal (tipo: cadena de texto)\n",
    "- Boarding Area: Área de embarque (tipo: cadena de texto)\n",
    "- Passenger Count: Cantidad de pasajeros (tipo: entero)\n",
    "\n",
    "Número de clases de la variable objetivo, indicando que representan dichas clases y el tipo de valor que toman. \n",
    "- Passenger Count\n",
    "\n",
    "Número de instancias pertenecientes a cada clase en la variable objetivo.\n",
    "- 17356\n",
    "\n",
    "Estadísticas de la variable objetivo.\n",
    "- count     50730.000000\n",
    "- mean      28489.836073\n",
    "- std       60100.148363\n",
    "- min           1.000000\n",
    "- 25%        4553.000000\n",
    "- 50%        8645.500000\n",
    "- 75%       19508.500000\n",
    "- max      659837.000000\n",
    "\n",
    "Estadísticas los atributos en relación con la variable objetivo.\n",
    "\n",
    "Se incorporá una pequeña descripción (EDA) del conjunto de datos utilizado. Se analiza el dataset proporcionando, se muestra al menos algunas de sus características mediante tablas y al menos algunas de ellas en modo gráfico (p.ej., histogramas, diagramas de dispersión, diagramas de cajas y bigotes, etc.)\n"
   ]
  },
  {
   "cell_type": "code",
   "execution_count": 4,
   "id": "2f0ed5d2",
   "metadata": {},
   "outputs": [
    {
     "name": "stdout",
     "output_type": "stream",
     "text": [
      "(50730, 12)\n"
     ]
    }
   ],
   "source": [
    "print(df.shape)"
   ]
  },
  {
   "cell_type": "code",
   "execution_count": 5,
   "id": "e293fca3",
   "metadata": {},
   "outputs": [
    {
     "name": "stdout",
     "output_type": "stream",
     "text": [
      "<class 'pandas.core.frame.DataFrame'>\n",
      "RangeIndex: 50730 entries, 0 to 50729\n",
      "Data columns (total 12 columns):\n",
      " #   Column                       Non-Null Count  Dtype \n",
      "---  ------                       --------------  ----- \n",
      " 0   Activity Period              50730 non-null  int64 \n",
      " 1   Operating Airline            50730 non-null  object\n",
      " 2   Operating Airline IATA Code  50730 non-null  object\n",
      " 3   Published Airline            50730 non-null  object\n",
      " 4   Published Airline IATA Code  50730 non-null  object\n",
      " 5   GEO Summary                  50730 non-null  object\n",
      " 6   GEO Region                   50730 non-null  object\n",
      " 7   Activity Type Code           50730 non-null  object\n",
      " 8   Price Category Code          50730 non-null  object\n",
      " 9   Terminal                     50730 non-null  object\n",
      " 10  Boarding Area                50730 non-null  object\n",
      " 11  Passenger Count              50730 non-null  int64 \n",
      "dtypes: int64(2), object(10)\n",
      "memory usage: 4.6+ MB\n"
     ]
    }
   ],
   "source": [
    "df.info()"
   ]
  },
  {
   "cell_type": "code",
   "execution_count": 6,
   "id": "01645ae9",
   "metadata": {},
   "outputs": [
    {
     "data": {
      "text/plain": [
       "1        35\n",
       "2        34\n",
       "10       32\n",
       "4        30\n",
       "138      24\n",
       "         ..\n",
       "90401     1\n",
       "83716     1\n",
       "86351     1\n",
       "55081     1\n",
       "22052     1\n",
       "Name: Passenger Count, Length: 17356, dtype: int64"
      ]
     },
     "execution_count": 6,
     "metadata": {},
     "output_type": "execute_result"
    }
   ],
   "source": [
    " df['Passenger Count'].value_counts()"
   ]
  },
  {
   "cell_type": "code",
   "execution_count": 7,
   "id": "eaabe055",
   "metadata": {},
   "outputs": [
    {
     "data": {
      "text/plain": [
       "count     50730.000000\n",
       "mean      28489.836073\n",
       "std       60100.148363\n",
       "min           1.000000\n",
       "25%        4553.000000\n",
       "50%        8645.500000\n",
       "75%       19508.500000\n",
       "max      659837.000000\n",
       "Name: Passenger Count, dtype: float64"
      ]
     },
     "execution_count": 7,
     "metadata": {},
     "output_type": "execute_result"
    }
   ],
   "source": [
    "df['Passenger Count'].describe()"
   ]
  },
  {
   "cell_type": "code",
   "execution_count": 8,
   "id": "ad08f162",
   "metadata": {},
   "outputs": [
    {
     "name": "stdout",
     "output_type": "stream",
     "text": [
      "                                         Activity Period                 \\\n",
      "                                                   count           mean   \n",
      "Operating Airline                                                         \n",
      "ABC Aerolineas S.A. de C.V. dba Interjet           100.0  201878.360000   \n",
      "ATA Airlines                                        88.0  200586.363636   \n",
      "Aer Lingus, Ltd.                                   428.0  201531.733645   \n",
      "Aeromexico                                         660.0  201523.463636   \n",
      "Air Berlin                                         120.0  201327.500000   \n",
      "...                                                  ...            ...   \n",
      "WOW Air                                            142.0  201733.521127   \n",
      "WestJet Airlines                                   374.0  201476.786096   \n",
      "World Airways                                        6.0  201008.333333   \n",
      "XL Airways France                                  130.0  201553.415385   \n",
      "Xtra Airways                                         4.0  200608.000000   \n",
      "\n",
      "                                                                           \\\n",
      "                                                 std       min        25%   \n",
      "Operating Airline                                                           \n",
      "ABC Aerolineas S.A. de C.V. dba Interjet   65.382097  201803.0  201809.00   \n",
      "ATA Airlines                               82.831803  200507.0  200510.00   \n",
      "Aer Lingus, Ltd.                          438.342235  200710.0  201405.00   \n",
      "Aeromexico                                403.301798  200703.0  201203.00   \n",
      "Air Berlin                                279.741027  201005.0  201106.00   \n",
      "...                                              ...       ...        ...   \n",
      "WOW Air                                    76.132371  201606.0  201702.25   \n",
      "WestJet Airlines                          470.477274  200507.0  201110.00   \n",
      "World Airways                             156.984925  200907.0  200907.00   \n",
      "XL Airways France                         234.618998  201205.0  201308.00   \n",
      "Xtra Airways                                0.000000  200608.0  200608.00   \n",
      "\n",
      "                                                                         \\\n",
      "                                               50%        75%       max   \n",
      "Operating Airline                                                         \n",
      "ABC Aerolineas S.A. de C.V. dba Interjet  201903.0  201909.00  202003.0   \n",
      "ATA Airlines                              200601.0  200606.50  200802.0   \n",
      "Aer Lingus, Ltd.                          201608.0  201811.00  202212.0   \n",
      "Aeromexico                                201508.0  201901.00  202212.0   \n",
      "Air Berlin                                201207.5  201609.00  201710.0   \n",
      "...                                            ...        ...       ...   \n",
      "WOW Air                                   201711.0  201805.75  201811.0   \n",
      "WestJet Airlines                          201506.0  201809.00  202212.0   \n",
      "World Airways                             200907.0  201135.00  201211.0   \n",
      "XL Airways France                         201606.0  201709.00  201909.0   \n",
      "Xtra Airways                              200608.0  200608.00  200608.0   \n",
      "\n",
      "                                         Passenger Count               \\\n",
      "                                                   count         mean   \n",
      "Operating Airline                                                       \n",
      "ABC Aerolineas S.A. de C.V. dba Interjet           100.0  3907.580000   \n",
      "ATA Airlines                                        88.0  8744.636364   \n",
      "Aer Lingus, Ltd.                                   428.0  5530.266355   \n",
      "Aeromexico                                         660.0  8183.901515   \n",
      "Air Berlin                                         120.0  3919.250000   \n",
      "...                                                  ...          ...   \n",
      "WOW Air                                            142.0  5067.732394   \n",
      "WestJet Airlines                                   374.0  6084.852941   \n",
      "World Airways                                        6.0   261.666667   \n",
      "XL Airways France                                  130.0  2469.430769   \n",
      "Xtra Airways                                         4.0    73.000000   \n",
      "\n",
      "                                                                        \\\n",
      "                                                  std     min      25%   \n",
      "Operating Airline                                                        \n",
      "ABC Aerolineas S.A. de C.V. dba Interjet  1613.002572  1090.0  2486.00   \n",
      "ATA Airlines                              8831.922552    48.0   263.25   \n",
      "Aer Lingus, Ltd.                          2035.861817   341.0  3858.00   \n",
      "Aeromexico                                4896.880686     6.0  3227.00   \n",
      "Air Berlin                                2833.238167   972.0  2139.75   \n",
      "...                                               ...     ...      ...   \n",
      "WOW Air                                   3107.128486     1.0  2802.50   \n",
      "WestJet Airlines                          3842.259333     2.0  1714.00   \n",
      "World Airways                                7.447595   255.0   256.00   \n",
      "XL Airways France                         1328.738587   106.0  1377.00   \n",
      "Xtra Airways                                 0.000000    73.0    73.00   \n",
      "\n",
      "                                                                     \n",
      "                                             50%       75%      max  \n",
      "Operating Airline                                                    \n",
      "ABC Aerolineas S.A. de C.V. dba Interjet  3896.5   5297.00   7448.0  \n",
      "ATA Airlines                              5563.5  15727.25  29131.0  \n",
      "Aer Lingus, Ltd.                          5712.0   7246.00   9360.0  \n",
      "Aeromexico                                9341.5  12097.00  20679.0  \n",
      "Air Berlin                                2881.0   4926.00  12491.0  \n",
      "...                                          ...       ...      ...  \n",
      "WOW Air                                   5253.0   7905.75   9848.0  \n",
      "WestJet Airlines                          6838.0   8251.00  16127.0  \n",
      "World Airways                              259.0    268.00    271.0  \n",
      "XL Airways France                         2436.0   3666.00   5077.0  \n",
      "Xtra Airways                                73.0     73.00     73.0  \n",
      "\n",
      "[102 rows x 16 columns]\n"
     ]
    }
   ],
   "source": [
    "estadisticas = df.groupby('Operating Airline').describe()\n",
    "print(estadisticas)"
   ]
  },
  {
   "cell_type": "code",
   "execution_count": 9,
   "id": "a2ecff71",
   "metadata": {},
   "outputs": [
    {
     "data": {
      "image/png": "[encoded data removed]",
      "text/plain": [
       "<Figure size 640x480 with 1 Axes>"
      ]
     },
     "metadata": {},
     "output_type": "display_data"
    }
   ],
   "source": [
    "plt.scatter(df['Operating Airline'], df['Passenger Count'])\n",
    "plt.xlabel('Activity Period')\n",
    "plt.ylabel('Passenger Count')\n",
    "plt.title('Gráfico de dispersión del período de actividad frente al recuento de pasajeros')\n",
    "plt.show()"
   ]
  },
  {
   "cell_type": "code",
   "execution_count": 10,
   "id": "cc57efa7",
   "metadata": {},
   "outputs": [
    {
     "data": {
      "image/png": "[encoded data removed]",
      "text/plain": [
       "<Figure size 640x480 with 1 Axes>"
      ]
     },
     "metadata": {},
     "output_type": "display_data"
    }
   ],
   "source": [
    "df.boxplot(column='Passenger Count', by='GEO Summary')\n",
    "plt.xlabel('Operating Airline')\n",
    "plt.ylabel('Passenger Count')\n",
    "plt.title('Diagrama de caja del conteo de pasajeros por resumen GEO')\n",
    "plt.show()"
   ]
  },
  {
   "cell_type": "code",
   "execution_count": 11,
   "id": "1d93e5d7",
   "metadata": {},
   "outputs": [
    {
     "data": {
      "image/png": "[encoded data removed]",
      "text/plain": [
       "<Figure size 640x480 with 1 Axes>"
      ]
     },
     "metadata": {},
     "output_type": "display_data"
    }
   ],
   "source": [
    "plt.hist(df['Passenger Count'], bins=10)\n",
    "plt.xlabel('Passenger Count')\n",
    "plt.ylabel('Frequency')\n",
    "plt.title('Histogram of Passenger Count')\n",
    "plt.show()"
   ]
  },
  {
   "cell_type": "markdown",
   "id": "a7ab5e48",
   "metadata": {},
   "source": [
    "En un par de párrafos haga un resumen de los principales hallazagos encontrados:    "
   ]
  },
  {
   "cell_type": "markdown",
   "id": "ece5beca",
   "metadata": {
    "ExecuteTime": {
     "end_time": "2022-03-14T15:52:20.156185Z",
     "start_time": "2022-03-14T15:52:20.150187Z"
    }
   },
   "source": [
    "## Preprocesamiento del dataset. Transformaciones previas necesarias para la modelación"
   ]
  },
  {
   "cell_type": "code",
   "execution_count": 12,
   "id": "85c9ad88",
   "metadata": {},
   "outputs": [
    {
     "name": "stdout",
     "output_type": "stream",
     "text": [
      "       Activity Period  Passenger Count  \\\n",
      "0               200507            27271   \n",
      "1               200507            29131   \n",
      "2               200507             5415   \n",
      "3               200507            35156   \n",
      "4               200507            34090   \n",
      "...                ...              ...   \n",
      "50725           202212             3197   \n",
      "50726           202212             5836   \n",
      "50727           202212             6650   \n",
      "50728           202212             1679   \n",
      "50729           202212             1857   \n",
      "\n",
      "       Operating Airline_ABC Aerolineas S.A. de C.V. dba Interjet  \\\n",
      "0                                                      0            \n",
      "1                                                      0            \n",
      "2                                                      0            \n",
      "3                                                      0            \n",
      "4                                                      0            \n",
      "...                                                  ...            \n",
      "50725                                                  0            \n",
      "50726                                                  0            \n",
      "50727                                                  0            \n",
      "50728                                                  0            \n",
      "50729                                                  0            \n",
      "\n",
      "       Operating Airline_ATA Airlines  Operating Airline_Aer Lingus, Ltd.  \\\n",
      "0                                   1                                   0   \n",
      "1                                   1                                   0   \n",
      "2                                   1                                   0   \n",
      "3                                   0                                   0   \n",
      "4                                   0                                   0   \n",
      "...                               ...                                 ...   \n",
      "50725                               0                                   0   \n",
      "50726                               0                                   0   \n",
      "50727                               0                                   0   \n",
      "50728                               0                                   0   \n",
      "50729                               0                                   0   \n",
      "\n",
      "       Operating Airline_Aeromexico  Operating Airline_Air Berlin  \\\n",
      "0                                 0                             0   \n",
      "1                                 0                             0   \n",
      "2                                 0                             0   \n",
      "3                                 0                             0   \n",
      "4                                 0                             0   \n",
      "...                             ...                           ...   \n",
      "50725                             0                             0   \n",
      "50726                             0                             0   \n",
      "50727                             0                             0   \n",
      "50728                             0                             0   \n",
      "50729                             0                             0   \n",
      "\n",
      "       Operating Airline_Air Canada  Operating Airline_Air Canada Jazz  \\\n",
      "0                                 0                                  0   \n",
      "1                                 0                                  0   \n",
      "2                                 0                                  0   \n",
      "3                                 1                                  0   \n",
      "4                                 1                                  0   \n",
      "...                             ...                                ...   \n",
      "50725                             0                                  0   \n",
      "50726                             0                                  0   \n",
      "50727                             0                                  0   \n",
      "50728                             0                                  0   \n",
      "50729                             0                                  0   \n",
      "\n",
      "       Operating Airline_Air China  ...  Terminal_Terminal 2  \\\n",
      "0                                0  ...                    0   \n",
      "1                                0  ...                    0   \n",
      "2                                0  ...                    0   \n",
      "3                                0  ...                    0   \n",
      "4                                0  ...                    0   \n",
      "...                            ...  ...                  ...   \n",
      "50725                            0  ...                    0   \n",
      "50726                            0  ...                    0   \n",
      "50727                            0  ...                    0   \n",
      "50728                            0  ...                    0   \n",
      "50729                            0  ...                    0   \n",
      "\n",
      "       Terminal_Terminal 3  Boarding Area_A  Boarding Area_B  Boarding Area_C  \\\n",
      "0                        0                0                1                0   \n",
      "1                        0                0                1                0   \n",
      "2                        0                0                1                0   \n",
      "3                        0                0                1                0   \n",
      "4                        0                0                1                0   \n",
      "...                    ...              ...              ...              ...   \n",
      "50725                    0                1                0                0   \n",
      "50726                    0                1                0                0   \n",
      "50727                    0                1                0                0   \n",
      "50728                    0                1                0                0   \n",
      "50729                    0                1                0                0   \n",
      "\n",
      "       Boarding Area_D  Boarding Area_E  Boarding Area_F  Boarding Area_G  \\\n",
      "0                    0                0                0                0   \n",
      "1                    0                0                0                0   \n",
      "2                    0                0                0                0   \n",
      "3                    0                0                0                0   \n",
      "4                    0                0                0                0   \n",
      "...                ...              ...              ...              ...   \n",
      "50725                0                0                0                0   \n",
      "50726                0                0                0                0   \n",
      "50727                0                0                0                0   \n",
      "50728                0                0                0                0   \n",
      "50729                0                0                0                0   \n",
      "\n",
      "       Boarding Area_Other  \n",
      "0                        0  \n",
      "1                        0  \n",
      "2                        0  \n",
      "3                        0  \n",
      "4                        0  \n",
      "...                    ...  \n",
      "50725                    0  \n",
      "50726                    0  \n",
      "50727                    0  \n",
      "50728                    0  \n",
      "50729                    0  \n",
      "\n",
      "[50730 rows x 396 columns]\n"
     ]
    }
   ],
   "source": [
    "\n",
    "# Seleccionar las columnas categóricas a codificar\n",
    "categorical_columns = ['Operating Airline', 'Operating Airline IATA Code', 'Published Airline', 'Published Airline IATA Code', 'GEO Summary', 'GEO Region', 'Activity Type Code', 'Price Category Code', 'Terminal', 'Boarding Area']\n",
    "\n",
    "# Aplicar One-Hot Encoding a las columnas categóricas\n",
    "encoded_df = pd.get_dummies(df, columns=categorical_columns)\n",
    "\n",
    "# Imprimir el DataFrame con las columnas codificadas\n",
    "print(encoded_df)"
   ]
  },
  {
   "cell_type": "code",
   "execution_count": null,
   "id": "78b85aae",
   "metadata": {},
   "outputs": [],
   "source": [
    "X = encoded_df.drop('Passenger Count', axis=1)\n",
    "y = encoded_df['Passenger Count']"
   ]
  },
  {
   "cell_type": "code",
   "execution_count": null,
   "id": "78111c3e",
   "metadata": {},
   "outputs": [],
   "source": [
    "label_encoder = LabelEncoder()\n",
    "df['Operating Airline'] = label_encoder.fit_transform(df['Operating Airline'])"
   ]
  },
  {
   "cell_type": "code",
   "execution_count": null,
   "id": "0dc7cd94",
   "metadata": {},
   "outputs": [],
   "source": [
    "X = df[['Operating Airline']]\n",
    "y = df['Passenger Count']"
   ]
  },
  {
   "cell_type": "markdown",
   "id": "49815fde",
   "metadata": {
    "ExecuteTime": {
     "end_time": "2022-03-14T15:56:34.366469Z",
     "start_time": "2022-03-14T15:56:34.358471Z"
    }
   },
   "source": [
    "## División del dataset en datos de entrenamiento y datos de test "
   ]
  },
  {
   "cell_type": "code",
   "execution_count": 23,
   "id": "ae5de2d5",
   "metadata": {},
   "outputs": [],
   "source": [
    "X_train, X_test, y_train, y_test = train_test_split(X, y, test_size=0.3, random_state=42)"
   ]
  },
  {
   "cell_type": "code",
   "execution_count": 24,
   "id": "4273139d",
   "metadata": {},
   "outputs": [
    {
     "name": "stdout",
     "output_type": "stream",
     "text": [
      "Tamaño del conjunto de entrenamiento: 35511\n",
      "Tamaño del conjunto de prueba: 15219\n"
     ]
    }
   ],
   "source": [
    "print(\"Tamaño del conjunto de entrenamiento:\", X_train.shape[0])\n",
    "print(\"Tamaño del conjunto de prueba:\", X_test.shape[0])"
   ]
  },
  {
   "cell_type": "markdown",
   "id": "8b189911",
   "metadata": {},
   "source": [
    "## Propuesta de arquitectura de red neuronal"
   ]
  },
  {
   "cell_type": "markdown",
   "id": "f54e4b8d",
   "metadata": {},
   "source": [
    "Describe: \n",
    "\n",
    "+ las neuronas en la capa de entrada \n",
    "+ las capas intermedias – al menos dos – \n",
    "+ capa de salida\n",
    "+ funciones de activación\n",
    "\n",
    "Al menos utiliza relu en algunas de las capas intermedias y utiliza softmax en la capa de salida."
   ]
  },
  {
   "cell_type": "code",
   "execution_count": 25,
   "id": "2eaa0e96",
   "metadata": {},
   "outputs": [],
   "source": [
    "model = Sequential()\n",
    "model.add(Dense(98, input_dim=X_train.shape[1], activation='relu'))\n",
    "model.add(Dense(64, activation='relu'))\n",
    "model.add(Dense(32, activation='relu'))\n",
    "model.add(Dense(1, activation=None))\n",
    "model.compile(loss='mean_squared_error', optimizer='adam')\n"
   ]
  },
  {
   "cell_type": "markdown",
   "id": "635384f7",
   "metadata": {},
   "source": [
    "##  Ajuste de modelo de Clasificación RNA"
   ]
  },
  {
   "cell_type": "markdown",
   "id": "1c9c3f6c",
   "metadata": {},
   "source": [
    "Mediante Python y utilizando al menos Keras sobre TensorFlow 2.0 (tensorflow.keras), entrena el modelo o modelos de red neuronal escogidos."
   ]
  },
  {
   "cell_type": "code",
   "execution_count": 36,
   "id": "44ce37ec",
   "metadata": {},
   "outputs": [
    {
     "name": "stdout",
     "output_type": "stream",
     "text": [
      "Epoch 1/10\n",
      "1110/1110 [==============================] - 2s 2ms/step - loss: 3512210688.0000 - val_loss: 3549788672.0000\n",
      "Epoch 2/10\n",
      "1110/1110 [==============================] - 2s 2ms/step - loss: 3510454784.0000 - val_loss: 3554659328.0000\n",
      "Epoch 3/10\n",
      "1110/1110 [==============================] - 2s 2ms/step - loss: 3511784960.0000 - val_loss: 3552504320.0000\n",
      "Epoch 4/10\n",
      "1110/1110 [==============================] - 2s 2ms/step - loss: 3511639040.0000 - val_loss: 3551328512.0000\n",
      "Epoch 5/10\n",
      "1110/1110 [==============================] - 2s 2ms/step - loss: 3512321792.0000 - val_loss: 3550921984.0000\n",
      "Epoch 6/10\n",
      "1110/1110 [==============================] - 2s 2ms/step - loss: 3512798720.0000 - val_loss: 3550323968.0000\n",
      "Epoch 7/10\n",
      "1110/1110 [==============================] - 2s 2ms/step - loss: 3511800064.0000 - val_loss: 3550748672.0000\n",
      "Epoch 8/10\n",
      "1110/1110 [==============================] - 2s 2ms/step - loss: 3512570112.0000 - val_loss: 3550028032.0000\n",
      "Epoch 9/10\n",
      "1110/1110 [==============================] - 2s 2ms/step - loss: 3511630592.0000 - val_loss: 3550571520.0000\n",
      "Epoch 10/10\n",
      "1110/1110 [==============================] - 2s 2ms/step - loss: 3511627520.0000 - val_loss: 3552245760.0000\n"
     ]
    }
   ],
   "source": [
    "history = model.fit(X_train, y_train, epochs=10, batch_size=32, validation_data=(X_test, y_test))"
   ]
  },
  {
   "cell_type": "markdown",
   "id": "aa4b8461",
   "metadata": {},
   "source": [
    "## Evaluación de modelo RNA\n",
    "\n",
    "Defina las estadísticas (métricas) de evaluación, y dividiendo el dataset en datos de entrenamiento, validación y datos de test prueba tu propuesta.\n"
   ]
  },
  {
   "cell_type": "code",
   "execution_count": 32,
   "id": "3192874d",
   "metadata": {},
   "outputs": [
    {
     "name": "stdout",
     "output_type": "stream",
     "text": [
      "476/476 [==============================] - 1s 1ms/step - loss: 3549990912.0000\n",
      "476/476 [==============================] - 1s 1ms/step\n",
      "Loss: 3549990912.0\n",
      "MSE: 3549991484.250462\n",
      "RMSE: 59581.80497643942\n",
      "MAE: 32537.272655300323\n",
      "R^2: 0.027411522799183463\n"
     ]
    }
   ],
   "source": [
    "loss = model.evaluate(X_test, y_test)\n",
    "\n",
    "y_pred = model.predict(X_test)\n",
    "mse = mean_squared_error(y_test, y_pred)\n",
    "\n",
    "rmse = np.sqrt(mse)\n",
    "\n",
    "mae = mean_absolute_error(y_test, y_pred)\n",
    "r2 = r2_score(y_test, y_pred)\n",
    "\n",
    "print('Loss:', loss)\n",
    "print('MSE:', mse)\n",
    "print('RMSE:', rmse)\n",
    "print('MAE:', mae)\n",
    "print('R^2:', r2)"
   ]
  },
  {
   "cell_type": "markdown",
   "id": "5a2831ee",
   "metadata": {},
   "source": [
    "### Visualice el progreso de entrenamiento del modelo y muestre las estadísticas de evaluación para los conjuntos de entrenamiento y validación.  "
   ]
  },
  {
   "cell_type": "code",
   "execution_count": 39,
   "id": "35b33294",
   "metadata": {},
   "outputs": [],
   "source": [
    "train_loss = history.history['loss']\n",
    "val_loss = history.history['val_loss']"
   ]
  },
  {
   "cell_type": "code",
   "execution_count": 38,
   "id": "82a00a0d",
   "metadata": {},
   "outputs": [
    {
     "name": "stdout",
     "output_type": "stream",
     "text": [
      "1110/1110 [==============================] - 1s 1ms/step - loss: 3511848960.0000\n",
      "476/476 [==============================] - 1s 1ms/step - loss: 3552245760.0000\n"
     ]
    }
   ],
   "source": [
    "train_metrics = model.evaluate(X_train, y_train)\n",
    "val_metrics = model.evaluate(X_test, y_test)"
   ]
  },
  {
   "cell_type": "code",
   "execution_count": 40,
   "id": "1d92b4f6",
   "metadata": {},
   "outputs": [
    {
     "data": {
      "image/png": "[encoded data removed]",
      "text/plain": [
       "<Figure size 640x480 with 1 Axes>"
      ]
     },
     "metadata": {},
     "output_type": "display_data"
    }
   ],
   "source": [
    "plt.plot(train_loss, label='Train Loss')\n",
    "plt.plot(val_loss, label='Validation Loss')\n",
    "plt.xlabel('Epochs')\n",
    "plt.ylabel('Loss')\n",
    "plt.legend()\n",
    "plt.show()"
   ]
  },
  {
   "cell_type": "code",
   "execution_count": 41,
   "id": "deadccf3",
   "metadata": {},
   "outputs": [
    {
     "name": "stdout",
     "output_type": "stream",
     "text": [
      "Train Metrics: 3511848960.0\n",
      "Validation Metrics: 3552245760.0\n"
     ]
    }
   ],
   "source": [
    "print('Train Metrics:', train_metrics)\n",
    "print('Validation Metrics:', val_metrics)"
   ]
  },
  {
   "cell_type": "markdown",
   "id": "c4646184",
   "metadata": {},
   "source": [
    "### Evalúe los resultados  para el conjunto de test."
   ]
  },
  {
   "cell_type": "code",
   "execution_count": 42,
   "id": "fc60e202",
   "metadata": {
    "ExecuteTime": {
     "end_time": "2022-04-25T07:15:41.472314Z",
     "start_time": "2022-04-25T07:15:41.465313Z"
    }
   },
   "outputs": [
    {
     "name": "stdout",
     "output_type": "stream",
     "text": [
      "1110/1110 [==============================] - 2s 1ms/step - loss: 3511848960.0000\n"
     ]
    }
   ],
   "source": [
    "train_loss = model.evaluate(X_train, y_train)"
   ]
  },
  {
   "cell_type": "code",
   "execution_count": 43,
   "id": "2cb76d4d",
   "metadata": {},
   "outputs": [
    {
     "name": "stdout",
     "output_type": "stream",
     "text": [
      "Train Loss: 3511848960.0\n"
     ]
    }
   ],
   "source": [
    "print('Train Loss:', train_loss)"
   ]
  },
  {
   "cell_type": "markdown",
   "id": "99feaa39",
   "metadata": {},
   "source": [
    "## Ajuste de modelos de clasificación alternativos"
   ]
  },
  {
   "cell_type": "markdown",
   "id": "d552bc64",
   "metadata": {},
   "source": [
    "Elige al menos un método de clasificación no basado en redes neuronales (p.ej. regresión logística, árboles de decisión, reglas de clasificación, random forest, SVM, etc)."
   ]
  },
  {
   "cell_type": "code",
   "execution_count": 47,
   "id": "ab1db4b0",
   "metadata": {},
   "outputs": [
    {
     "data": {
      "text/html": [
       "<div>\n",
       "<style scoped>\n",
       "    .dataframe tbody tr th:only-of-type {\n",
       "        vertical-align: middle;\n",
       "    }\n",
       "\n",
       "    .dataframe tbody tr th {\n",
       "        vertical-align: top;\n",
       "    }\n",
       "\n",
       "    .dataframe thead th {\n",
       "        text-align: right;\n",
       "    }\n",
       "</style>\n",
       "<table border=\"1\" class=\"dataframe\">\n",
       "  <thead>\n",
       "    <tr style=\"text-align: right;\">\n",
       "      <th></th>\n",
       "      <th>Activity Period</th>\n",
       "      <th>Operating Airline</th>\n",
       "      <th>Operating Airline IATA Code</th>\n",
       "      <th>Published Airline</th>\n",
       "      <th>Published Airline IATA Code</th>\n",
       "      <th>GEO Summary</th>\n",
       "      <th>GEO Region</th>\n",
       "      <th>Activity Type Code</th>\n",
       "      <th>Price Category Code</th>\n",
       "      <th>Terminal</th>\n",
       "      <th>Boarding Area</th>\n",
       "      <th>Passenger Count</th>\n",
       "    </tr>\n",
       "  </thead>\n",
       "  <tbody>\n",
       "    <tr>\n",
       "      <th>0</th>\n",
       "      <td>200507</td>\n",
       "      <td>ATA Airlines</td>\n",
       "      <td>TZ</td>\n",
       "      <td>ATA Airlines</td>\n",
       "      <td>TZ</td>\n",
       "      <td>Domestic</td>\n",
       "      <td>US</td>\n",
       "      <td>Deplaned</td>\n",
       "      <td>Low Fare</td>\n",
       "      <td>Terminal 1</td>\n",
       "      <td>B</td>\n",
       "      <td>27271</td>\n",
       "    </tr>\n",
       "    <tr>\n",
       "      <th>1</th>\n",
       "      <td>200507</td>\n",
       "      <td>ATA Airlines</td>\n",
       "      <td>TZ</td>\n",
       "      <td>ATA Airlines</td>\n",
       "      <td>TZ</td>\n",
       "      <td>Domestic</td>\n",
       "      <td>US</td>\n",
       "      <td>Enplaned</td>\n",
       "      <td>Low Fare</td>\n",
       "      <td>Terminal 1</td>\n",
       "      <td>B</td>\n",
       "      <td>29131</td>\n",
       "    </tr>\n",
       "    <tr>\n",
       "      <th>2</th>\n",
       "      <td>200507</td>\n",
       "      <td>ATA Airlines</td>\n",
       "      <td>TZ</td>\n",
       "      <td>ATA Airlines</td>\n",
       "      <td>TZ</td>\n",
       "      <td>Domestic</td>\n",
       "      <td>US</td>\n",
       "      <td>Thru / Transit</td>\n",
       "      <td>Low Fare</td>\n",
       "      <td>Terminal 1</td>\n",
       "      <td>B</td>\n",
       "      <td>5415</td>\n",
       "    </tr>\n",
       "    <tr>\n",
       "      <th>3</th>\n",
       "      <td>200507</td>\n",
       "      <td>Air Canada</td>\n",
       "      <td>AC</td>\n",
       "      <td>Air Canada</td>\n",
       "      <td>AC</td>\n",
       "      <td>International</td>\n",
       "      <td>Canada</td>\n",
       "      <td>Deplaned</td>\n",
       "      <td>Other</td>\n",
       "      <td>Terminal 1</td>\n",
       "      <td>B</td>\n",
       "      <td>35156</td>\n",
       "    </tr>\n",
       "    <tr>\n",
       "      <th>4</th>\n",
       "      <td>200507</td>\n",
       "      <td>Air Canada</td>\n",
       "      <td>AC</td>\n",
       "      <td>Air Canada</td>\n",
       "      <td>AC</td>\n",
       "      <td>International</td>\n",
       "      <td>Canada</td>\n",
       "      <td>Enplaned</td>\n",
       "      <td>Other</td>\n",
       "      <td>Terminal 1</td>\n",
       "      <td>B</td>\n",
       "      <td>34090</td>\n",
       "    </tr>\n",
       "    <tr>\n",
       "      <th>...</th>\n",
       "      <td>...</td>\n",
       "      <td>...</td>\n",
       "      <td>...</td>\n",
       "      <td>...</td>\n",
       "      <td>...</td>\n",
       "      <td>...</td>\n",
       "      <td>...</td>\n",
       "      <td>...</td>\n",
       "      <td>...</td>\n",
       "      <td>...</td>\n",
       "      <td>...</td>\n",
       "      <td>...</td>\n",
       "    </tr>\n",
       "    <tr>\n",
       "      <th>50725</th>\n",
       "      <td>202212</td>\n",
       "      <td>Vietnam Airlines JSC</td>\n",
       "      <td>VN</td>\n",
       "      <td>Vietnam Airlines JSC</td>\n",
       "      <td>VN</td>\n",
       "      <td>International</td>\n",
       "      <td>Asia</td>\n",
       "      <td>Enplaned</td>\n",
       "      <td>Other</td>\n",
       "      <td>International</td>\n",
       "      <td>A</td>\n",
       "      <td>3197</td>\n",
       "    </tr>\n",
       "    <tr>\n",
       "      <th>50726</th>\n",
       "      <td>202212</td>\n",
       "      <td>Virgin Atlantic</td>\n",
       "      <td>VS</td>\n",
       "      <td>Virgin Atlantic</td>\n",
       "      <td>VS</td>\n",
       "      <td>International</td>\n",
       "      <td>Europe</td>\n",
       "      <td>Deplaned</td>\n",
       "      <td>Other</td>\n",
       "      <td>International</td>\n",
       "      <td>A</td>\n",
       "      <td>5836</td>\n",
       "    </tr>\n",
       "    <tr>\n",
       "      <th>50727</th>\n",
       "      <td>202212</td>\n",
       "      <td>Virgin Atlantic</td>\n",
       "      <td>VS</td>\n",
       "      <td>Virgin Atlantic</td>\n",
       "      <td>VS</td>\n",
       "      <td>International</td>\n",
       "      <td>Europe</td>\n",
       "      <td>Enplaned</td>\n",
       "      <td>Other</td>\n",
       "      <td>International</td>\n",
       "      <td>A</td>\n",
       "      <td>6650</td>\n",
       "    </tr>\n",
       "    <tr>\n",
       "      <th>50728</th>\n",
       "      <td>202212</td>\n",
       "      <td>WestJet Airlines</td>\n",
       "      <td>WS</td>\n",
       "      <td>WestJet Airlines</td>\n",
       "      <td>WS</td>\n",
       "      <td>International</td>\n",
       "      <td>Canada</td>\n",
       "      <td>Deplaned</td>\n",
       "      <td>Other</td>\n",
       "      <td>International</td>\n",
       "      <td>A</td>\n",
       "      <td>1679</td>\n",
       "    </tr>\n",
       "    <tr>\n",
       "      <th>50729</th>\n",
       "      <td>202212</td>\n",
       "      <td>WestJet Airlines</td>\n",
       "      <td>WS</td>\n",
       "      <td>WestJet Airlines</td>\n",
       "      <td>WS</td>\n",
       "      <td>International</td>\n",
       "      <td>Canada</td>\n",
       "      <td>Enplaned</td>\n",
       "      <td>Other</td>\n",
       "      <td>International</td>\n",
       "      <td>A</td>\n",
       "      <td>1857</td>\n",
       "    </tr>\n",
       "  </tbody>\n",
       "</table>\n",
       "<p>50730 rows × 12 columns</p>\n",
       "</div>"
      ],
      "text/plain": [
       "       Activity Period     Operating Airline Operating Airline IATA Code  \\\n",
       "0               200507          ATA Airlines                          TZ   \n",
       "1               200507          ATA Airlines                          TZ   \n",
       "2               200507          ATA Airlines                          TZ   \n",
       "3               200507            Air Canada                          AC   \n",
       "4               200507            Air Canada                          AC   \n",
       "...                ...                   ...                         ...   \n",
       "50725           202212  Vietnam Airlines JSC                          VN   \n",
       "50726           202212       Virgin Atlantic                          VS   \n",
       "50727           202212       Virgin Atlantic                          VS   \n",
       "50728           202212      WestJet Airlines                          WS   \n",
       "50729           202212      WestJet Airlines                          WS   \n",
       "\n",
       "          Published Airline Published Airline IATA Code    GEO Summary  \\\n",
       "0              ATA Airlines                          TZ       Domestic   \n",
       "1              ATA Airlines                          TZ       Domestic   \n",
       "2              ATA Airlines                          TZ       Domestic   \n",
       "3                Air Canada                          AC  International   \n",
       "4                Air Canada                          AC  International   \n",
       "...                     ...                         ...            ...   \n",
       "50725  Vietnam Airlines JSC                          VN  International   \n",
       "50726       Virgin Atlantic                          VS  International   \n",
       "50727       Virgin Atlantic                          VS  International   \n",
       "50728      WestJet Airlines                          WS  International   \n",
       "50729      WestJet Airlines                          WS  International   \n",
       "\n",
       "      GEO Region Activity Type Code Price Category Code       Terminal  \\\n",
       "0             US           Deplaned            Low Fare     Terminal 1   \n",
       "1             US           Enplaned            Low Fare     Terminal 1   \n",
       "2             US     Thru / Transit            Low Fare     Terminal 1   \n",
       "3         Canada           Deplaned               Other     Terminal 1   \n",
       "4         Canada           Enplaned               Other     Terminal 1   \n",
       "...          ...                ...                 ...            ...   \n",
       "50725       Asia           Enplaned               Other  International   \n",
       "50726     Europe           Deplaned               Other  International   \n",
       "50727     Europe           Enplaned               Other  International   \n",
       "50728     Canada           Deplaned               Other  International   \n",
       "50729     Canada           Enplaned               Other  International   \n",
       "\n",
       "      Boarding Area  Passenger Count  \n",
       "0                 B            27271  \n",
       "1                 B            29131  \n",
       "2                 B             5415  \n",
       "3                 B            35156  \n",
       "4                 B            34090  \n",
       "...             ...              ...  \n",
       "50725             A             3197  \n",
       "50726             A             5836  \n",
       "50727             A             6650  \n",
       "50728             A             1679  \n",
       "50729             A             1857  \n",
       "\n",
       "[50730 rows x 12 columns]"
      ]
     },
     "execution_count": 47,
     "metadata": {},
     "output_type": "execute_result"
    }
   ],
   "source": [
    "url = 'https://raw.githubusercontent.com/TheAcademyDVR/dataset/master/data/Air_Traffic_Passenger_Statistics.csv'\n",
    "dfDR = pd.read_csv(url)\n",
    "dfDR"
   ]
  },
  {
   "cell_type": "code",
   "execution_count": 48,
   "id": "7d5214bc",
   "metadata": {},
   "outputs": [],
   "source": [
    "XDR = dfDR[['Operating Airline']]\n",
    "yDR = dfDR['Passenger Count']"
   ]
  },
  {
   "cell_type": "code",
   "execution_count": 49,
   "id": "d5d2b2c6",
   "metadata": {},
   "outputs": [],
   "source": [
    "XDR = pd.get_dummies(XDR)"
   ]
  },
  {
   "cell_type": "code",
   "execution_count": 50,
   "id": "33f5be2a",
   "metadata": {
    "ExecuteTime": {
     "end_time": "2022-04-25T07:21:39.020596Z",
     "start_time": "2022-04-25T07:21:39.005596Z"
    }
   },
   "outputs": [],
   "source": [
    "X_trainDR, X_testDR, y_trainDR, y_testDR = train_test_split(XDR, yDR, test_size=0.3, random_state=42)"
   ]
  },
  {
   "cell_type": "code",
   "execution_count": 51,
   "id": "a2e675b3",
   "metadata": {},
   "outputs": [
    {
     "data": {
      "text/html": [
       "<style>#sk-container-id-1 {color: black;background-color: white;}#sk-container-id-1 pre{padding: 0;}#sk-container-id-1 div.sk-toggleable {background-color: white;}#sk-container-id-1 label.sk-toggleable__label {cursor: pointer;display: block;width: 100%;margin-bottom: 0;padding: 0.3em;box-sizing: border-box;text-align: center;}#sk-container-id-1 label.sk-toggleable__label-arrow:before {content: \"▸\";float: left;margin-right: 0.25em;color: #696969;}#sk-container-id-1 label.sk-toggleable__label-arrow:hover:before {color: black;}#sk-container-id-1 div.sk-estimator:hover label.sk-toggleable__label-arrow:before {color: black;}#sk-container-id-1 div.sk-toggleable__content {max-height: 0;max-width: 0;overflow: hidden;text-align: left;background-color: #f0f8ff;}#sk-container-id-1 div.sk-toggleable__content pre {margin: 0.2em;color: black;border-radius: 0.25em;background-color: #f0f8ff;}#sk-container-id-1 input.sk-toggleable__control:checked~div.sk-toggleable__content {max-height: 200px;max-width: 100%;overflow: auto;}#sk-container-id-1 input.sk-toggleable__control:checked~label.sk-toggleable__label-arrow:before {content: \"▾\";}#sk-container-id-1 div.sk-estimator input.sk-toggleable__control:checked~label.sk-toggleable__label {background-color: #d4ebff;}#sk-container-id-1 div.sk-label input.sk-toggleable__control:checked~label.sk-toggleable__label {background-color: #d4ebff;}#sk-container-id-1 input.sk-hidden--visually {border: 0;clip: rect(1px 1px 1px 1px);clip: rect(1px, 1px, 1px, 1px);height: 1px;margin: -1px;overflow: hidden;padding: 0;position: absolute;width: 1px;}#sk-container-id-1 div.sk-estimator {font-family: monospace;background-color: #f0f8ff;border: 1px dotted black;border-radius: 0.25em;box-sizing: border-box;margin-bottom: 0.5em;}#sk-container-id-1 div.sk-estimator:hover {background-color: #d4ebff;}#sk-container-id-1 div.sk-parallel-item::after {content: \"\";width: 100%;border-bottom: 1px solid gray;flex-grow: 1;}#sk-container-id-1 div.sk-label:hover label.sk-toggleable__label {background-color: #d4ebff;}#sk-container-id-1 div.sk-serial::before {content: \"\";position: absolute;border-left: 1px solid gray;box-sizing: border-box;top: 0;bottom: 0;left: 50%;z-index: 0;}#sk-container-id-1 div.sk-serial {display: flex;flex-direction: column;align-items: center;background-color: white;padding-right: 0.2em;padding-left: 0.2em;position: relative;}#sk-container-id-1 div.sk-item {position: relative;z-index: 1;}#sk-container-id-1 div.sk-parallel {display: flex;align-items: stretch;justify-content: center;background-color: white;position: relative;}#sk-container-id-1 div.sk-item::before, #sk-container-id-1 div.sk-parallel-item::before {content: \"\";position: absolute;border-left: 1px solid gray;box-sizing: border-box;top: 0;bottom: 0;left: 50%;z-index: -1;}#sk-container-id-1 div.sk-parallel-item {display: flex;flex-direction: column;z-index: 1;position: relative;background-color: white;}#sk-container-id-1 div.sk-parallel-item:first-child::after {align-self: flex-end;width: 50%;}#sk-container-id-1 div.sk-parallel-item:last-child::after {align-self: flex-start;width: 50%;}#sk-container-id-1 div.sk-parallel-item:only-child::after {width: 0;}#sk-container-id-1 div.sk-dashed-wrapped {border: 1px dashed gray;margin: 0 0.4em 0.5em 0.4em;box-sizing: border-box;padding-bottom: 0.4em;background-color: white;}#sk-container-id-1 div.sk-label label {font-family: monospace;font-weight: bold;display: inline-block;line-height: 1.2em;}#sk-container-id-1 div.sk-label-container {text-align: center;}#sk-container-id-1 div.sk-container {/* jupyter's `normalize.less` sets `[hidden] { display: none; }` but bootstrap.min.css set `[hidden] { display: none !important; }` so we also need the `!important` here to be able to override the default hidden behavior on the sphinx rendered scikit-learn.org. See: https://github.com/scikit-learn/scikit-learn/issues/21755 */display: inline-block !important;position: relative;}#sk-container-id-1 div.sk-text-repr-fallback {display: none;}</style><div id=\"sk-container-id-1\" class=\"sk-top-container\"><div class=\"sk-text-repr-fallback\"><pre>DecisionTreeRegressor()</pre><b>In a Jupyter environment, please rerun this cell to show the HTML representation or trust the notebook. <br />On GitHub, the HTML representation is unable to render, please try loading this page with nbviewer.org.</b></div><div class=\"sk-container\" hidden><div class=\"sk-item\"><div class=\"sk-estimator sk-toggleable\"><input class=\"sk-toggleable__control sk-hidden--visually\" id=\"sk-estimator-id-1\" type=\"checkbox\" checked><label for=\"sk-estimator-id-1\" class=\"sk-toggleable__label sk-toggleable__label-arrow\">DecisionTreeRegressor</label><div class=\"sk-toggleable__content\"><pre>DecisionTreeRegressor()</pre></div></div></div></div></div>"
      ],
      "text/plain": [
       "DecisionTreeRegressor()"
      ]
     },
     "execution_count": 51,
     "metadata": {},
     "output_type": "execute_result"
    }
   ],
   "source": [
    "model = DecisionTreeRegressor()\n",
    "model.fit(X_trainDR, y_trainDR)"
   ]
  },
  {
   "cell_type": "code",
   "execution_count": 52,
   "id": "a14a7e67",
   "metadata": {},
   "outputs": [],
   "source": [
    "y_predDR = model.predict(X_testDR)"
   ]
  },
  {
   "cell_type": "code",
   "execution_count": 53,
   "id": "35096ebe",
   "metadata": {},
   "outputs": [],
   "source": [
    "mseDR = mean_squared_error(y_testDR, y_predDR)\n",
    "rmseDR = mean_squared_error(y_testDR, y_predDR, squared=False)\n",
    "maeDR = mean_absolute_error(y_testDR, y_predDR)\n",
    "r2DR = r2_score(y_testDR, y_predDR)"
   ]
  },
  {
   "cell_type": "code",
   "execution_count": 54,
   "id": "dd2f539a",
   "metadata": {},
   "outputs": [
    {
     "name": "stdout",
     "output_type": "stream",
     "text": [
      "MSEDR: 2962125745.0781884\n",
      "RMSEDR: 54425.41451452794\n",
      "MAEDR: 24460.885486330746\n",
      "R^2DR: 0.1884686539491226\n"
     ]
    }
   ],
   "source": [
    "print(\"MSEDR:\", mseDR)\n",
    "print(\"RMSEDR:\", rmseDR)\n",
    "print(\"MAEDR:\", maeDR)\n",
    "print(\"R^2DR:\", r2DR)"
   ]
  },
  {
   "cell_type": "markdown",
   "id": "ad219a0c",
   "metadata": {},
   "source": [
    "Construya un o dos párrafos con los principales hallazgos. Incluye una explicación de los parámetros que consideres relevantes en cada ejecución."
   ]
  },
  {
   "cell_type": "markdown",
   "id": "44df4eb5",
   "metadata": {},
   "source": [
    "## Comparación del desempeño de modelos\n",
    "\n",
    "Muestra los resultados obtenidos por los diferentes algoritmos escogidos de forma gráfica y comparada/superpuesta."
   ]
  },
  {
   "cell_type": "code",
   "execution_count": 64,
   "id": "fe4acd93",
   "metadata": {},
   "outputs": [],
   "source": [
    "model_names = ['Decision Tree', 'Redes Neuronales']\n",
    "mse = [2962125745.0781884, 3549991484.250462]\n",
    "rmse = [54425.41451452794, 59581.80497643942]\n",
    "mae = [24460.885486330746, 32537.272655300323]\n",
    "r2 = [0.1884686539491226, 0.027411522799183463]\n"
   ]
  },
  {
   "cell_type": "code",
   "execution_count": 65,
   "id": "1b644946",
   "metadata": {},
   "outputs": [
    {
     "data": {
      "image/png": "[encoded data removed]",
      "text/plain": [
       "<Figure size 1000x600 with 1 Axes>"
      ]
     },
     "metadata": {},
     "output_type": "display_data"
    }
   ],
   "source": [
    "plt.figure(figsize=(10, 6))\n",
    "plt.bar(model_names, mse, label='MSE')\n",
    "plt.bar(model_names, rmse, label='RMSE')\n",
    "plt.bar(model_names, mae, label='MAE')\n",
    "plt.bar(model_names, r2, label='R^2')\n",
    "plt.xlabel('Modelos')\n",
    "plt.ylabel('Valor de la métrica')\n",
    "plt.title('Comparación de métricas de rendimiento')\n",
    "plt.legend()\n",
    "plt.show()"
   ]
  },
  {
   "cell_type": "markdown",
   "id": "f11d5ab4",
   "metadata": {},
   "source": [
    "Construya un párrafo con los principales hallazgos."
   ]
  },
  {
   "cell_type": "markdown",
   "id": "f810fb47",
   "metadata": {
    "ExecuteTime": {
     "end_time": "2022-03-14T16:16:57.134093Z",
     "start_time": "2022-03-14T16:16:57.117129Z"
    }
   },
   "source": [
    "## Discusión de los resultados obtenidos y argumentos sobre cómo se podrían mejorar de dichos resultados"
   ]
  },
  {
   "cell_type": "markdown",
   "id": "c74b3044",
   "metadata": {},
   "source": [
    "<b>Resultados comparados.</b>"
   ]
  },
  {
   "cell_type": "markdown",
   "id": "b8ff9674",
   "metadata": {},
   "source": [
    "Error cuadrático medio (MSE):\n",
    "\n",
    ">- Decision Tree: MSEDR = 2962125745.0781884\n",
    ">- Redes Neuronales: MSE = 3549991484.250462\n",
    ">- Observamos que el modelo Decision Tree tiene un MSE ligeramente inferior al de Redes Neuronales. Esto indica que el modelo Decision Tree tiene un mejor rendimiento en términos de la precisión del ajuste del modelo a los datos.\n",
    "\n",
    "Raíz del error cuadrático medio (RMSE):\n",
    "\n",
    ">- Decision Tree: RMSEDR = 54425.41451452794\n",
    ">- Redes Neuronales: RMSE = 59581.80497643942\n",
    ">- El modelo Decision Tree también muestra un valor de RMSE más bajo en comparación con Redes Neuronales. Esto implica que el modelo Decision Tree tiene una mejor capacidad para predecir los valores de la variable objetivo con menor error promedio.\n",
    "\n",
    "Error absoluto medio (MAE):\n",
    "\n",
    ">- Decision Tree: MAEDR = 24460.885486330746\n",
    ">- Redes Neuronales: MAE = 32537.272655300323\n",
    ">- Nuevamente, el modelo Decision Tree presenta un MAE más bajo en comparación con Redes Neuronales. Esto significa que el modelo Decision Tree tiene una mejor capacidad para predecir los valores de la variable objetivo con menor error absoluto promedio.\n",
    "\n",
    "Coeficiente de determinación (R^2):\n",
    "\n",
    ">- Decision Tree: R^2DR = 0.1884686539491226\n",
    ">- Redes Neuronales: R^2 = 0.027411522799183463\n",
    ">- El coeficiente de determinación indica la proporción de la varianza de la variable objetivo que es explicada por el modelo. En este caso, el modelo Decision Tree muestra un valor de R^2 más alto que Redes Neuronales. Esto sugiere que el modelo Decision Tree se ajusta mejor a los datos y es capaz de explicar una mayor cantidad de variabilidad en la variable objetivo."
   ]
  },
  {
   "cell_type": "markdown",
   "id": "c4fa51e8",
   "metadata": {},
   "source": [
    "<b>Conclusiones con base a las diferentes métricas escogidas. </b>\n",
    ">- Según las métricas de rendimiento utilizadas, el modelo Decision Tree supera al modelo de Redes Neuronales en términos de MSE, RMSE, MAE y R^2. Esto indica que el modelo Decision Tree proporciona una mejor precisión y capacidad predictiva en comparación con Redes Neuronales para el problema de modelación específico que se está abordando. Sin embargo, es importante considerar otros factores, como la interpretabilidad y la complejidad del modelo, antes de tomar una decisión final sobre qué modelo utilizar."
   ]
  },
  {
   "cell_type": "markdown",
   "id": "54b29df4",
   "metadata": {},
   "source": [
    "<b>Argumentos que describan con qué técnica se obtienen mejores resultados en base a las diferentes métricas que hayas escogido</b>"
   ]
  },
  {
   "cell_type": "markdown",
   "id": "9e922968",
   "metadata": {},
   "source": [
    "Error cuadrático medio (MSE):\n",
    ">- El Decision Tree obtiene un MSE de 2962125745.0781884, mientras que Redes Neuronales tiene un MSE de 3549991484.250462. El menor valor de MSE del Decision Tree indica que este modelo tiene una mejor capacidad para ajustarse a los datos y minimizar el error cuadrático medio en las predicciones.\n",
    "\n",
    "Raíz del error cuadrático medio (RMSE):\n",
    ">- El Decision Tree tiene un RMSE de 54425.41451452794, mientras que Redes Neuronales muestra un RMSE de 59581.80497643942. Un valor más bajo de RMSE en el Decision Tree indica que las predicciones de este modelo tienen un menor error promedio en comparación con Redes Neuronales.\n",
    "\n",
    "Error absoluto medio (MAE):\n",
    ">- El MAE del Decision Tree es de 24460.885486330746, mientras que Redes Neuronales tiene un MAE de 32537.272655300323. El menor valor de MAE en el Decision Tree indica que este modelo tiene una mejor capacidad para realizar predicciones más precisas y con menor error absoluto promedio.\n",
    "\n",
    "Coeficiente de determinación (R^2):\n",
    ">- El Decision Tree tiene un R^2 de 0.1884686539491226, mientras que Redes Neuronales muestra un R^2 de 0.027411522799183463. Un valor más alto de R^2 en el Decision Tree indica que este modelo es capaz de explicar una mayor proporción de la variabilidad en la variable objetivo en comparación con Redes Neuronales."
   ]
  },
  {
   "cell_type": "markdown",
   "id": "6556c5a5",
   "metadata": {},
   "source": [
    "Decision Tree supera a Redes Neuronales en términos de MSE, RMSE, MAE y R^2. Estos resultados sugieren que el Decision Tree tiene una mejor capacidad para ajustarse a los datos y realizar predicciones más precisas en comparación con Redes Neuronales para el problema de modelación en cuestión."
   ]
  },
  {
   "cell_type": "markdown",
   "id": "9c8415f4",
   "metadata": {},
   "source": [
    " <b>Explicación de cómo se podrían mejorar los resultados obtenidos por las redes neuronales, independientemente de que mejoren o no a los algoritmos no basados en redes neuronales.</b>"
   ]
  },
  {
   "cell_type": "markdown",
   "id": "6f14c3b8",
   "metadata": {},
   "source": [
    "Es importante destacar que la elección de la técnica y las estrategias específicas dependerá del problema en cuestión y de la naturaleza de los datos. Es recomendable realizar experimentos y ajustes iterativos para encontrar la combinación óptima de técnicas que mejor se adapten al problema y mejoren los resultados obtenidos por las redes neuronales."
   ]
  },
  {
   "cell_type": "code",
   "execution_count": null,
   "id": "9a8046a0",
   "metadata": {},
   "outputs": [],
   "source": []
  }
 ],
 "metadata": {
  "kernelspec": {
   "display_name": "Python 3 (ipykernel)",
   "language": "python",
   "name": "python3"
  },
  "language_info": {
   "codemirror_mode": {
    "name": "ipython",
    "version": 3
   },
   "file_extension": ".py",
   "mimetype": "text/x-python",
   "name": "python",
   "nbconvert_exporter": "python",
   "pygments_lexer": "ipython3",
   "version": "3.10.9"
  },
  "toc": {
   "base_numbering": 1,
   "nav_menu": {},
   "number_sections": true,
   "sideBar": true,
   "skip_h1_title": true,
   "title_cell": "Tabla de Contenido",
   "title_sidebar": "Contenido",
   "toc_cell": false,
   "toc_position": {
    "height": "calc(100% - 180px)",
    "left": "10px",
    "top": "150px",
    "width": "263.591px"
   },
   "toc_section_display": true,
   "toc_window_display": true
  }
 },
 "nbformat": 4,
 "nbformat_minor": 5
}
